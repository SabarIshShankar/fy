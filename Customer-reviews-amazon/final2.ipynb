{
  "nbformat": 4,
  "nbformat_minor": 0,
  "metadata": {
    "colab": {
      "name": "Untitled5.ipynb",
      "provenance": []
    },
    "kernelspec": {
      "name": "python3",
      "display_name": "Python 3"
    },
    "language_info": {
      "name": "python"
    }
  },
  "cells": [
    {
      "cell_type": "code",
      "execution_count": 1,
      "metadata": {
        "colab": {
          "base_uri": "https://localhost:8080/",
          "height": 907
        },
        "id": "vTtSI6Ve6R0N",
        "outputId": "2a6a8feb-39e2-432c-fdc4-bfcb7e151fe2"
      },
      "outputs": [
        {
          "output_type": "execute_result",
          "data": {
            "text/plain": [
              "                     id                                               name  \\\n",
              "0  AVqkIhwDv8e3D1O-lebb  All-New Fire HD 8 Tablet, 8 HD Display, Wi-Fi,...   \n",
              "1  AVqkIhwDv8e3D1O-lebb  All-New Fire HD 8 Tablet, 8 HD Display, Wi-Fi,...   \n",
              "2  AVqkIhwDv8e3D1O-lebb  All-New Fire HD 8 Tablet, 8 HD Display, Wi-Fi,...   \n",
              "3  AVqkIhwDv8e3D1O-lebb  All-New Fire HD 8 Tablet, 8 HD Display, Wi-Fi,...   \n",
              "4  AVqkIhwDv8e3D1O-lebb  All-New Fire HD 8 Tablet, 8 HD Display, Wi-Fi,...   \n",
              "\n",
              "        asins   brand                                         categories  \\\n",
              "0  B01AHB9CN2  Amazon  Electronics,iPad & Tablets,All Tablets,Fire Ta...   \n",
              "1  B01AHB9CN2  Amazon  Electronics,iPad & Tablets,All Tablets,Fire Ta...   \n",
              "2  B01AHB9CN2  Amazon  Electronics,iPad & Tablets,All Tablets,Fire Ta...   \n",
              "3  B01AHB9CN2  Amazon  Electronics,iPad & Tablets,All Tablets,Fire Ta...   \n",
              "4  B01AHB9CN2  Amazon  Electronics,iPad & Tablets,All Tablets,Fire Ta...   \n",
              "\n",
              "                                                keys manufacturer  \\\n",
              "0  841667104676,amazon/53004484,amazon/b01ahb9cn2...       Amazon   \n",
              "1  841667104676,amazon/53004484,amazon/b01ahb9cn2...       Amazon   \n",
              "2  841667104676,amazon/53004484,amazon/b01ahb9cn2...       Amazon   \n",
              "3  841667104676,amazon/53004484,amazon/b01ahb9cn2...       Amazon   \n",
              "4  841667104676,amazon/53004484,amazon/b01ahb9cn2...       Amazon   \n",
              "\n",
              "               reviews.date     reviews.dateAdded  \\\n",
              "0  2017-01-13T00:00:00.000Z  2017-07-03T23:33:15Z   \n",
              "1  2017-01-13T00:00:00.000Z  2017-07-03T23:33:15Z   \n",
              "2  2017-01-13T00:00:00.000Z  2017-07-03T23:33:15Z   \n",
              "3  2017-01-13T00:00:00.000Z  2017-07-03T23:33:15Z   \n",
              "4  2017-01-12T00:00:00.000Z  2017-07-03T23:33:15Z   \n",
              "\n",
              "                                    reviews.dateSeen  ... reviews.doRecommend  \\\n",
              "0  2017-06-07T09:04:00.000Z,2017-04-30T00:45:00.000Z  ...                True   \n",
              "1  2017-06-07T09:04:00.000Z,2017-04-30T00:45:00.000Z  ...                True   \n",
              "2  2017-06-07T09:04:00.000Z,2017-04-30T00:45:00.000Z  ...                True   \n",
              "3  2017-06-07T09:04:00.000Z,2017-04-30T00:45:00.000Z  ...                True   \n",
              "4  2017-06-07T09:04:00.000Z,2017-04-30T00:45:00.000Z  ...                True   \n",
              "\n",
              "  reviews.id  reviews.numHelpful  reviews.rating  \\\n",
              "0        NaN                 0.0             5.0   \n",
              "1        NaN                 0.0             5.0   \n",
              "2        NaN                 0.0             5.0   \n",
              "3        NaN                 0.0             4.0   \n",
              "4        NaN                 0.0             5.0   \n",
              "\n",
              "                                  reviews.sourceURLs  \\\n",
              "0  http://reviews.bestbuy.com/3545/5620406/review...   \n",
              "1  http://reviews.bestbuy.com/3545/5620406/review...   \n",
              "2  http://reviews.bestbuy.com/3545/5620406/review...   \n",
              "3  http://reviews.bestbuy.com/3545/5620406/review...   \n",
              "4  http://reviews.bestbuy.com/3545/5620406/review...   \n",
              "\n",
              "                                        reviews.text  \\\n",
              "0  This product so far has not disappointed. My c...   \n",
              "1  great for beginner or experienced person. Boug...   \n",
              "2  Inexpensive tablet for him to use and learn on...   \n",
              "3  I've had my Fire HD 8 two weeks now and I love...   \n",
              "4  I bought this for my grand daughter when she c...   \n",
              "\n",
              "                             reviews.title reviews.userCity  \\\n",
              "0                                   Kindle              NaN   \n",
              "1                                very fast              NaN   \n",
              "2  Beginner tablet for our 9 year old son.              NaN   \n",
              "3                                  Good!!!              NaN   \n",
              "4                Fantastic Tablet for kids              NaN   \n",
              "\n",
              "   reviews.userProvince  reviews.username  \n",
              "0                   NaN           Adapter  \n",
              "1                   NaN            truman  \n",
              "2                   NaN             DaveZ  \n",
              "3                   NaN            Shacks  \n",
              "4                   NaN         explore42  \n",
              "\n",
              "[5 rows x 21 columns]"
            ],
            "text/html": [
              "\n",
              "  <div id=\"df-4b2de5ae-7fa3-4eb7-83cf-c2da68392921\">\n",
              "    <div class=\"colab-df-container\">\n",
              "      <div>\n",
              "<style scoped>\n",
              "    .dataframe tbody tr th:only-of-type {\n",
              "        vertical-align: middle;\n",
              "    }\n",
              "\n",
              "    .dataframe tbody tr th {\n",
              "        vertical-align: top;\n",
              "    }\n",
              "\n",
              "    .dataframe thead th {\n",
              "        text-align: right;\n",
              "    }\n",
              "</style>\n",
              "<table border=\"1\" class=\"dataframe\">\n",
              "  <thead>\n",
              "    <tr style=\"text-align: right;\">\n",
              "      <th></th>\n",
              "      <th>id</th>\n",
              "      <th>name</th>\n",
              "      <th>asins</th>\n",
              "      <th>brand</th>\n",
              "      <th>categories</th>\n",
              "      <th>keys</th>\n",
              "      <th>manufacturer</th>\n",
              "      <th>reviews.date</th>\n",
              "      <th>reviews.dateAdded</th>\n",
              "      <th>reviews.dateSeen</th>\n",
              "      <th>...</th>\n",
              "      <th>reviews.doRecommend</th>\n",
              "      <th>reviews.id</th>\n",
              "      <th>reviews.numHelpful</th>\n",
              "      <th>reviews.rating</th>\n",
              "      <th>reviews.sourceURLs</th>\n",
              "      <th>reviews.text</th>\n",
              "      <th>reviews.title</th>\n",
              "      <th>reviews.userCity</th>\n",
              "      <th>reviews.userProvince</th>\n",
              "      <th>reviews.username</th>\n",
              "    </tr>\n",
              "  </thead>\n",
              "  <tbody>\n",
              "    <tr>\n",
              "      <th>0</th>\n",
              "      <td>AVqkIhwDv8e3D1O-lebb</td>\n",
              "      <td>All-New Fire HD 8 Tablet, 8 HD Display, Wi-Fi,...</td>\n",
              "      <td>B01AHB9CN2</td>\n",
              "      <td>Amazon</td>\n",
              "      <td>Electronics,iPad &amp; Tablets,All Tablets,Fire Ta...</td>\n",
              "      <td>841667104676,amazon/53004484,amazon/b01ahb9cn2...</td>\n",
              "      <td>Amazon</td>\n",
              "      <td>2017-01-13T00:00:00.000Z</td>\n",
              "      <td>2017-07-03T23:33:15Z</td>\n",
              "      <td>2017-06-07T09:04:00.000Z,2017-04-30T00:45:00.000Z</td>\n",
              "      <td>...</td>\n",
              "      <td>True</td>\n",
              "      <td>NaN</td>\n",
              "      <td>0.0</td>\n",
              "      <td>5.0</td>\n",
              "      <td>http://reviews.bestbuy.com/3545/5620406/review...</td>\n",
              "      <td>This product so far has not disappointed. My c...</td>\n",
              "      <td>Kindle</td>\n",
              "      <td>NaN</td>\n",
              "      <td>NaN</td>\n",
              "      <td>Adapter</td>\n",
              "    </tr>\n",
              "    <tr>\n",
              "      <th>1</th>\n",
              "      <td>AVqkIhwDv8e3D1O-lebb</td>\n",
              "      <td>All-New Fire HD 8 Tablet, 8 HD Display, Wi-Fi,...</td>\n",
              "      <td>B01AHB9CN2</td>\n",
              "      <td>Amazon</td>\n",
              "      <td>Electronics,iPad &amp; Tablets,All Tablets,Fire Ta...</td>\n",
              "      <td>841667104676,amazon/53004484,amazon/b01ahb9cn2...</td>\n",
              "      <td>Amazon</td>\n",
              "      <td>2017-01-13T00:00:00.000Z</td>\n",
              "      <td>2017-07-03T23:33:15Z</td>\n",
              "      <td>2017-06-07T09:04:00.000Z,2017-04-30T00:45:00.000Z</td>\n",
              "      <td>...</td>\n",
              "      <td>True</td>\n",
              "      <td>NaN</td>\n",
              "      <td>0.0</td>\n",
              "      <td>5.0</td>\n",
              "      <td>http://reviews.bestbuy.com/3545/5620406/review...</td>\n",
              "      <td>great for beginner or experienced person. Boug...</td>\n",
              "      <td>very fast</td>\n",
              "      <td>NaN</td>\n",
              "      <td>NaN</td>\n",
              "      <td>truman</td>\n",
              "    </tr>\n",
              "    <tr>\n",
              "      <th>2</th>\n",
              "      <td>AVqkIhwDv8e3D1O-lebb</td>\n",
              "      <td>All-New Fire HD 8 Tablet, 8 HD Display, Wi-Fi,...</td>\n",
              "      <td>B01AHB9CN2</td>\n",
              "      <td>Amazon</td>\n",
              "      <td>Electronics,iPad &amp; Tablets,All Tablets,Fire Ta...</td>\n",
              "      <td>841667104676,amazon/53004484,amazon/b01ahb9cn2...</td>\n",
              "      <td>Amazon</td>\n",
              "      <td>2017-01-13T00:00:00.000Z</td>\n",
              "      <td>2017-07-03T23:33:15Z</td>\n",
              "      <td>2017-06-07T09:04:00.000Z,2017-04-30T00:45:00.000Z</td>\n",
              "      <td>...</td>\n",
              "      <td>True</td>\n",
              "      <td>NaN</td>\n",
              "      <td>0.0</td>\n",
              "      <td>5.0</td>\n",
              "      <td>http://reviews.bestbuy.com/3545/5620406/review...</td>\n",
              "      <td>Inexpensive tablet for him to use and learn on...</td>\n",
              "      <td>Beginner tablet for our 9 year old son.</td>\n",
              "      <td>NaN</td>\n",
              "      <td>NaN</td>\n",
              "      <td>DaveZ</td>\n",
              "    </tr>\n",
              "    <tr>\n",
              "      <th>3</th>\n",
              "      <td>AVqkIhwDv8e3D1O-lebb</td>\n",
              "      <td>All-New Fire HD 8 Tablet, 8 HD Display, Wi-Fi,...</td>\n",
              "      <td>B01AHB9CN2</td>\n",
              "      <td>Amazon</td>\n",
              "      <td>Electronics,iPad &amp; Tablets,All Tablets,Fire Ta...</td>\n",
              "      <td>841667104676,amazon/53004484,amazon/b01ahb9cn2...</td>\n",
              "      <td>Amazon</td>\n",
              "      <td>2017-01-13T00:00:00.000Z</td>\n",
              "      <td>2017-07-03T23:33:15Z</td>\n",
              "      <td>2017-06-07T09:04:00.000Z,2017-04-30T00:45:00.000Z</td>\n",
              "      <td>...</td>\n",
              "      <td>True</td>\n",
              "      <td>NaN</td>\n",
              "      <td>0.0</td>\n",
              "      <td>4.0</td>\n",
              "      <td>http://reviews.bestbuy.com/3545/5620406/review...</td>\n",
              "      <td>I've had my Fire HD 8 two weeks now and I love...</td>\n",
              "      <td>Good!!!</td>\n",
              "      <td>NaN</td>\n",
              "      <td>NaN</td>\n",
              "      <td>Shacks</td>\n",
              "    </tr>\n",
              "    <tr>\n",
              "      <th>4</th>\n",
              "      <td>AVqkIhwDv8e3D1O-lebb</td>\n",
              "      <td>All-New Fire HD 8 Tablet, 8 HD Display, Wi-Fi,...</td>\n",
              "      <td>B01AHB9CN2</td>\n",
              "      <td>Amazon</td>\n",
              "      <td>Electronics,iPad &amp; Tablets,All Tablets,Fire Ta...</td>\n",
              "      <td>841667104676,amazon/53004484,amazon/b01ahb9cn2...</td>\n",
              "      <td>Amazon</td>\n",
              "      <td>2017-01-12T00:00:00.000Z</td>\n",
              "      <td>2017-07-03T23:33:15Z</td>\n",
              "      <td>2017-06-07T09:04:00.000Z,2017-04-30T00:45:00.000Z</td>\n",
              "      <td>...</td>\n",
              "      <td>True</td>\n",
              "      <td>NaN</td>\n",
              "      <td>0.0</td>\n",
              "      <td>5.0</td>\n",
              "      <td>http://reviews.bestbuy.com/3545/5620406/review...</td>\n",
              "      <td>I bought this for my grand daughter when she c...</td>\n",
              "      <td>Fantastic Tablet for kids</td>\n",
              "      <td>NaN</td>\n",
              "      <td>NaN</td>\n",
              "      <td>explore42</td>\n",
              "    </tr>\n",
              "  </tbody>\n",
              "</table>\n",
              "<p>5 rows × 21 columns</p>\n",
              "</div>\n",
              "      <button class=\"colab-df-convert\" onclick=\"convertToInteractive('df-4b2de5ae-7fa3-4eb7-83cf-c2da68392921')\"\n",
              "              title=\"Convert this dataframe to an interactive table.\"\n",
              "              style=\"display:none;\">\n",
              "        \n",
              "  <svg xmlns=\"http://www.w3.org/2000/svg\" height=\"24px\"viewBox=\"0 0 24 24\"\n",
              "       width=\"24px\">\n",
              "    <path d=\"M0 0h24v24H0V0z\" fill=\"none\"/>\n",
              "    <path d=\"M18.56 5.44l.94 2.06.94-2.06 2.06-.94-2.06-.94-.94-2.06-.94 2.06-2.06.94zm-11 1L8.5 8.5l.94-2.06 2.06-.94-2.06-.94L8.5 2.5l-.94 2.06-2.06.94zm10 10l.94 2.06.94-2.06 2.06-.94-2.06-.94-.94-2.06-.94 2.06-2.06.94z\"/><path d=\"M17.41 7.96l-1.37-1.37c-.4-.4-.92-.59-1.43-.59-.52 0-1.04.2-1.43.59L10.3 9.45l-7.72 7.72c-.78.78-.78 2.05 0 2.83L4 21.41c.39.39.9.59 1.41.59.51 0 1.02-.2 1.41-.59l7.78-7.78 2.81-2.81c.8-.78.8-2.07 0-2.86zM5.41 20L4 18.59l7.72-7.72 1.47 1.35L5.41 20z\"/>\n",
              "  </svg>\n",
              "      </button>\n",
              "      \n",
              "  <style>\n",
              "    .colab-df-container {\n",
              "      display:flex;\n",
              "      flex-wrap:wrap;\n",
              "      gap: 12px;\n",
              "    }\n",
              "\n",
              "    .colab-df-convert {\n",
              "      background-color: #E8F0FE;\n",
              "      border: none;\n",
              "      border-radius: 50%;\n",
              "      cursor: pointer;\n",
              "      display: none;\n",
              "      fill: #1967D2;\n",
              "      height: 32px;\n",
              "      padding: 0 0 0 0;\n",
              "      width: 32px;\n",
              "    }\n",
              "\n",
              "    .colab-df-convert:hover {\n",
              "      background-color: #E2EBFA;\n",
              "      box-shadow: 0px 1px 2px rgba(60, 64, 67, 0.3), 0px 1px 3px 1px rgba(60, 64, 67, 0.15);\n",
              "      fill: #174EA6;\n",
              "    }\n",
              "\n",
              "    [theme=dark] .colab-df-convert {\n",
              "      background-color: #3B4455;\n",
              "      fill: #D2E3FC;\n",
              "    }\n",
              "\n",
              "    [theme=dark] .colab-df-convert:hover {\n",
              "      background-color: #434B5C;\n",
              "      box-shadow: 0px 1px 3px 1px rgba(0, 0, 0, 0.15);\n",
              "      filter: drop-shadow(0px 1px 2px rgba(0, 0, 0, 0.3));\n",
              "      fill: #FFFFFF;\n",
              "    }\n",
              "  </style>\n",
              "\n",
              "      <script>\n",
              "        const buttonEl =\n",
              "          document.querySelector('#df-4b2de5ae-7fa3-4eb7-83cf-c2da68392921 button.colab-df-convert');\n",
              "        buttonEl.style.display =\n",
              "          google.colab.kernel.accessAllowed ? 'block' : 'none';\n",
              "\n",
              "        async function convertToInteractive(key) {\n",
              "          const element = document.querySelector('#df-4b2de5ae-7fa3-4eb7-83cf-c2da68392921');\n",
              "          const dataTable =\n",
              "            await google.colab.kernel.invokeFunction('convertToInteractive',\n",
              "                                                     [key], {});\n",
              "          if (!dataTable) return;\n",
              "\n",
              "          const docLinkHtml = 'Like what you see? Visit the ' +\n",
              "            '<a target=\"_blank\" href=https://colab.research.google.com/notebooks/data_table.ipynb>data table notebook</a>'\n",
              "            + ' to learn more about interactive tables.';\n",
              "          element.innerHTML = '';\n",
              "          dataTable['output_type'] = 'display_data';\n",
              "          await google.colab.output.renderOutput(dataTable, element);\n",
              "          const docLink = document.createElement('div');\n",
              "          docLink.innerHTML = docLinkHtml;\n",
              "          element.appendChild(docLink);\n",
              "        }\n",
              "      </script>\n",
              "    </div>\n",
              "  </div>\n",
              "  "
            ]
          },
          "metadata": {},
          "execution_count": 1
        }
      ],
      "source": [
        "import pandas as pd\n",
        "import matplotlib.pyplot as plt\n",
        "import numpy as np\n",
        "import seaborn as sns\n",
        "import math\n",
        "import warnings\n",
        "\n",
        "warnings.filterwarnings('ignore')\n",
        "warnings.filterwarnings(\"ignore\", category = DeprecationWarning)\n",
        "warnings.filterwarnings(\"ignore\", category=UserWarning)\n",
        "sns.set_style(\"whitegrid\")\n",
        "%matplotlib inline\n",
        "np.random.seed(7)\n",
        "\n",
        "df = pd.read_csv('https://raw.githubusercontent.com/Arjun-Mota/amazon-product-reviews-sentiment-analysis/master/1429_1.csv')\n",
        "df.head(5)\n"
      ]
    },
    {
      "cell_type": "code",
      "source": [
        "#we can label each review based on sentiment\n",
        "#positive and negative\n",
        "\n",
        "data = df.copy()\n",
        "data.describe()"
      ],
      "metadata": {
        "colab": {
          "base_uri": "https://localhost:8080/",
          "height": 364
        },
        "id": "h95S2_rYI4id",
        "outputId": "2ce62e58-3f06-433b-ec79-b23cfd115752"
      },
      "execution_count": 2,
      "outputs": [
        {
          "output_type": "execute_result",
          "data": {
            "text/plain": [
              "        reviews.id  reviews.numHelpful  reviews.rating  reviews.userCity  \\\n",
              "count          1.0        34131.000000    34627.000000               0.0   \n",
              "mean   111372787.0            0.630248        4.584573               NaN   \n",
              "std            NaN           13.215775        0.735653               NaN   \n",
              "min    111372787.0            0.000000        1.000000               NaN   \n",
              "25%    111372787.0            0.000000        4.000000               NaN   \n",
              "50%    111372787.0            0.000000        5.000000               NaN   \n",
              "75%    111372787.0            0.000000        5.000000               NaN   \n",
              "max    111372787.0          814.000000        5.000000               NaN   \n",
              "\n",
              "       reviews.userProvince  \n",
              "count                   0.0  \n",
              "mean                    NaN  \n",
              "std                     NaN  \n",
              "min                     NaN  \n",
              "25%                     NaN  \n",
              "50%                     NaN  \n",
              "75%                     NaN  \n",
              "max                     NaN  "
            ],
            "text/html": [
              "\n",
              "  <div id=\"df-cb27de4b-fecc-4a1d-b233-06c740535691\">\n",
              "    <div class=\"colab-df-container\">\n",
              "      <div>\n",
              "<style scoped>\n",
              "    .dataframe tbody tr th:only-of-type {\n",
              "        vertical-align: middle;\n",
              "    }\n",
              "\n",
              "    .dataframe tbody tr th {\n",
              "        vertical-align: top;\n",
              "    }\n",
              "\n",
              "    .dataframe thead th {\n",
              "        text-align: right;\n",
              "    }\n",
              "</style>\n",
              "<table border=\"1\" class=\"dataframe\">\n",
              "  <thead>\n",
              "    <tr style=\"text-align: right;\">\n",
              "      <th></th>\n",
              "      <th>reviews.id</th>\n",
              "      <th>reviews.numHelpful</th>\n",
              "      <th>reviews.rating</th>\n",
              "      <th>reviews.userCity</th>\n",
              "      <th>reviews.userProvince</th>\n",
              "    </tr>\n",
              "  </thead>\n",
              "  <tbody>\n",
              "    <tr>\n",
              "      <th>count</th>\n",
              "      <td>1.0</td>\n",
              "      <td>34131.000000</td>\n",
              "      <td>34627.000000</td>\n",
              "      <td>0.0</td>\n",
              "      <td>0.0</td>\n",
              "    </tr>\n",
              "    <tr>\n",
              "      <th>mean</th>\n",
              "      <td>111372787.0</td>\n",
              "      <td>0.630248</td>\n",
              "      <td>4.584573</td>\n",
              "      <td>NaN</td>\n",
              "      <td>NaN</td>\n",
              "    </tr>\n",
              "    <tr>\n",
              "      <th>std</th>\n",
              "      <td>NaN</td>\n",
              "      <td>13.215775</td>\n",
              "      <td>0.735653</td>\n",
              "      <td>NaN</td>\n",
              "      <td>NaN</td>\n",
              "    </tr>\n",
              "    <tr>\n",
              "      <th>min</th>\n",
              "      <td>111372787.0</td>\n",
              "      <td>0.000000</td>\n",
              "      <td>1.000000</td>\n",
              "      <td>NaN</td>\n",
              "      <td>NaN</td>\n",
              "    </tr>\n",
              "    <tr>\n",
              "      <th>25%</th>\n",
              "      <td>111372787.0</td>\n",
              "      <td>0.000000</td>\n",
              "      <td>4.000000</td>\n",
              "      <td>NaN</td>\n",
              "      <td>NaN</td>\n",
              "    </tr>\n",
              "    <tr>\n",
              "      <th>50%</th>\n",
              "      <td>111372787.0</td>\n",
              "      <td>0.000000</td>\n",
              "      <td>5.000000</td>\n",
              "      <td>NaN</td>\n",
              "      <td>NaN</td>\n",
              "    </tr>\n",
              "    <tr>\n",
              "      <th>75%</th>\n",
              "      <td>111372787.0</td>\n",
              "      <td>0.000000</td>\n",
              "      <td>5.000000</td>\n",
              "      <td>NaN</td>\n",
              "      <td>NaN</td>\n",
              "    </tr>\n",
              "    <tr>\n",
              "      <th>max</th>\n",
              "      <td>111372787.0</td>\n",
              "      <td>814.000000</td>\n",
              "      <td>5.000000</td>\n",
              "      <td>NaN</td>\n",
              "      <td>NaN</td>\n",
              "    </tr>\n",
              "  </tbody>\n",
              "</table>\n",
              "</div>\n",
              "      <button class=\"colab-df-convert\" onclick=\"convertToInteractive('df-cb27de4b-fecc-4a1d-b233-06c740535691')\"\n",
              "              title=\"Convert this dataframe to an interactive table.\"\n",
              "              style=\"display:none;\">\n",
              "        \n",
              "  <svg xmlns=\"http://www.w3.org/2000/svg\" height=\"24px\"viewBox=\"0 0 24 24\"\n",
              "       width=\"24px\">\n",
              "    <path d=\"M0 0h24v24H0V0z\" fill=\"none\"/>\n",
              "    <path d=\"M18.56 5.44l.94 2.06.94-2.06 2.06-.94-2.06-.94-.94-2.06-.94 2.06-2.06.94zm-11 1L8.5 8.5l.94-2.06 2.06-.94-2.06-.94L8.5 2.5l-.94 2.06-2.06.94zm10 10l.94 2.06.94-2.06 2.06-.94-2.06-.94-.94-2.06-.94 2.06-2.06.94z\"/><path d=\"M17.41 7.96l-1.37-1.37c-.4-.4-.92-.59-1.43-.59-.52 0-1.04.2-1.43.59L10.3 9.45l-7.72 7.72c-.78.78-.78 2.05 0 2.83L4 21.41c.39.39.9.59 1.41.59.51 0 1.02-.2 1.41-.59l7.78-7.78 2.81-2.81c.8-.78.8-2.07 0-2.86zM5.41 20L4 18.59l7.72-7.72 1.47 1.35L5.41 20z\"/>\n",
              "  </svg>\n",
              "      </button>\n",
              "      \n",
              "  <style>\n",
              "    .colab-df-container {\n",
              "      display:flex;\n",
              "      flex-wrap:wrap;\n",
              "      gap: 12px;\n",
              "    }\n",
              "\n",
              "    .colab-df-convert {\n",
              "      background-color: #E8F0FE;\n",
              "      border: none;\n",
              "      border-radius: 50%;\n",
              "      cursor: pointer;\n",
              "      display: none;\n",
              "      fill: #1967D2;\n",
              "      height: 32px;\n",
              "      padding: 0 0 0 0;\n",
              "      width: 32px;\n",
              "    }\n",
              "\n",
              "    .colab-df-convert:hover {\n",
              "      background-color: #E2EBFA;\n",
              "      box-shadow: 0px 1px 2px rgba(60, 64, 67, 0.3), 0px 1px 3px 1px rgba(60, 64, 67, 0.15);\n",
              "      fill: #174EA6;\n",
              "    }\n",
              "\n",
              "    [theme=dark] .colab-df-convert {\n",
              "      background-color: #3B4455;\n",
              "      fill: #D2E3FC;\n",
              "    }\n",
              "\n",
              "    [theme=dark] .colab-df-convert:hover {\n",
              "      background-color: #434B5C;\n",
              "      box-shadow: 0px 1px 3px 1px rgba(0, 0, 0, 0.15);\n",
              "      filter: drop-shadow(0px 1px 2px rgba(0, 0, 0, 0.3));\n",
              "      fill: #FFFFFF;\n",
              "    }\n",
              "  </style>\n",
              "\n",
              "      <script>\n",
              "        const buttonEl =\n",
              "          document.querySelector('#df-cb27de4b-fecc-4a1d-b233-06c740535691 button.colab-df-convert');\n",
              "        buttonEl.style.display =\n",
              "          google.colab.kernel.accessAllowed ? 'block' : 'none';\n",
              "\n",
              "        async function convertToInteractive(key) {\n",
              "          const element = document.querySelector('#df-cb27de4b-fecc-4a1d-b233-06c740535691');\n",
              "          const dataTable =\n",
              "            await google.colab.kernel.invokeFunction('convertToInteractive',\n",
              "                                                     [key], {});\n",
              "          if (!dataTable) return;\n",
              "\n",
              "          const docLinkHtml = 'Like what you see? Visit the ' +\n",
              "            '<a target=\"_blank\" href=https://colab.research.google.com/notebooks/data_table.ipynb>data table notebook</a>'\n",
              "            + ' to learn more about interactive tables.';\n",
              "          element.innerHTML = '';\n",
              "          dataTable['output_type'] = 'display_data';\n",
              "          await google.colab.output.renderOutput(dataTable, element);\n",
              "          const docLink = document.createElement('div');\n",
              "          docLink.innerHTML = docLinkHtml;\n",
              "          element.appendChild(docLink);\n",
              "        }\n",
              "      </script>\n",
              "    </div>\n",
              "  </div>\n",
              "  "
            ]
          },
          "metadata": {},
          "execution_count": 2
        }
      ]
    },
    {
      "cell_type": "markdown",
      "source": [
        "To analayze the review data to make decisions - products context"
      ],
      "metadata": {
        "id": "3O2P-olLJErJ"
      }
    },
    {
      "cell_type": "code",
      "source": [
        "data.info()"
      ],
      "metadata": {
        "colab": {
          "base_uri": "https://localhost:8080/"
        },
        "id": "80hxSEezJV93",
        "outputId": "31193cc0-a31f-4ae0-d2de-6fd44eb64137"
      },
      "execution_count": 3,
      "outputs": [
        {
          "output_type": "stream",
          "name": "stdout",
          "text": [
            "<class 'pandas.core.frame.DataFrame'>\n",
            "RangeIndex: 34660 entries, 0 to 34659\n",
            "Data columns (total 21 columns):\n",
            " #   Column                Non-Null Count  Dtype  \n",
            "---  ------                --------------  -----  \n",
            " 0   id                    34660 non-null  object \n",
            " 1   name                  27900 non-null  object \n",
            " 2   asins                 34658 non-null  object \n",
            " 3   brand                 34660 non-null  object \n",
            " 4   categories            34660 non-null  object \n",
            " 5   keys                  34660 non-null  object \n",
            " 6   manufacturer          34660 non-null  object \n",
            " 7   reviews.date          34621 non-null  object \n",
            " 8   reviews.dateAdded     24039 non-null  object \n",
            " 9   reviews.dateSeen      34660 non-null  object \n",
            " 10  reviews.didPurchase   1 non-null      object \n",
            " 11  reviews.doRecommend   34066 non-null  object \n",
            " 12  reviews.id            1 non-null      float64\n",
            " 13  reviews.numHelpful    34131 non-null  float64\n",
            " 14  reviews.rating        34627 non-null  float64\n",
            " 15  reviews.sourceURLs    34660 non-null  object \n",
            " 16  reviews.text          34659 non-null  object \n",
            " 17  reviews.title         34655 non-null  object \n",
            " 18  reviews.userCity      0 non-null      float64\n",
            " 19  reviews.userProvince  0 non-null      float64\n",
            " 20  reviews.username      34658 non-null  object \n",
            "dtypes: float64(5), object(16)\n",
            "memory usage: 5.6+ MB\n"
          ]
        }
      ]
    },
    {
      "cell_type": "code",
      "source": [
        "data[\"asins\"].unique() #Amazon Standard Identification Numbe"
      ],
      "metadata": {
        "colab": {
          "base_uri": "https://localhost:8080/"
        },
        "id": "dUzCz2o7JbUv",
        "outputId": "ffaa727a-11ba-473a-8552-2aa781294c58"
      },
      "execution_count": 4,
      "outputs": [
        {
          "output_type": "execute_result",
          "data": {
            "text/plain": [
              "array(['B01AHB9CN2', 'B00VINDBJK', 'B005PB2T0S', 'B002Y27P3M',\n",
              "       'B01AHB9CYG', 'B01AHB9C1E', 'B01J2G4VBG', 'B00ZV9PXP2',\n",
              "       'B0083Q04TA', 'B018Y229OU', 'B00REQKWGA', 'B00IOYAM4I',\n",
              "       'B018T075DC', nan, 'B00DU15MU4', 'B018Y225IA', 'B005PB2T2Q',\n",
              "       'B018Y23MNM', 'B00OQVZDJM', 'B00IOY8XWQ', 'B00LO29KXQ',\n",
              "       'B00QJDU3KY', 'B018Y22C2Y', 'B01BFIBRIE', 'B01J4ORNHU',\n",
              "       'B018SZT3BK', 'B00UH4D8G2', 'B018Y22BI4', 'B00TSUGXKE',\n",
              "       'B00L9EPT8O,B01E6AO69U', 'B018Y23P7K', 'B00X4WHP5E', 'B00QFQRELG',\n",
              "       'B00LW9XOJM', 'B00QL1ZN3G', 'B0189XYY0Q', 'B01BH83OOM',\n",
              "       'B00BFJAHF8', 'B00U3FPN4U', 'B002Y27P6Y', 'B006GWO5NE',\n",
              "       'B006GWO5WK'], dtype=object)"
            ]
          },
          "metadata": {},
          "execution_count": 4
        }
      ]
    },
    {
      "cell_type": "code",
      "source": [
        "asins_unique = len(data[\"asins\"].unique())\n",
        "print(\"Number of unique asins\" + str(asins_unique))"
      ],
      "metadata": {
        "colab": {
          "base_uri": "https://localhost:8080/"
        },
        "id": "7Y6o16vCJckq",
        "outputId": "18571b6b-d9c5-4082-f954-e27a7a683845"
      },
      "execution_count": 5,
      "outputs": [
        {
          "output_type": "stream",
          "name": "stdout",
          "text": [
            "Number of unique asins42\n"
          ]
        }
      ]
    },
    {
      "cell_type": "code",
      "source": [
        "data.hist(bins=50, figsize=(20, 15))\n",
        "plt.show()"
      ],
      "metadata": {
        "colab": {
          "base_uri": "https://localhost:8080/",
          "height": 481
        },
        "id": "RD_UVK1tJ397",
        "outputId": "4d6daf18-82f8-4ab1-91a0-54264c83299b"
      },
      "execution_count": 6,
      "outputs": [
        {
          "output_type": "display_data",
          "data": {
            "text/plain": [
              "<Figure size 1440x1080 with 6 Axes>"
            ],
            "image/png": "[encoded data removed]"
          },
          "metadata": {
            "needs_background": "light"
          }
        }
      ]
    },
    {
      "cell_type": "code",
      "source": [
        "from sklearn.model_selection import StratifiedShuffleSplit\n",
        "#train a sentiment analysis classifier\n",
        "#make sure we split such that the classifier is not imbalanced\n",
        "print(\"Before {}\".format(len(data)))\n",
        "dataAfter = data.dropna(subset=[\"reviews.rating\"])\n",
        "print(\"After {}\".format(len(dataAfter)))\n",
        "dataAfter[\"reviews.rating\"] = dataAfter[\"reviews.rating\"].astype(int)"
      ],
      "metadata": {
        "colab": {
          "base_uri": "https://localhost:8080/"
        },
        "id": "DUeXeIcqJ-sy",
        "outputId": "e4022858-4ea4-4cb8-ef23-ed5118333df1"
      },
      "execution_count": 7,
      "outputs": [
        {
          "output_type": "stream",
          "name": "stdout",
          "text": [
            "Before 34660\n",
            "After 34627\n"
          ]
        }
      ]
    },
    {
      "cell_type": "code",
      "source": [
        "split = StratifiedShuffleSplit(n_splits = 5, test_size = 0.2)\n",
        "for train_index, test_index in split.split(dataAfter, dataAfter[\"reviews.rating\"]):\n",
        "  strat_train = dataAfter.reindex(train_index)\n",
        "  strat_test = dataAfter.reindex(test_index)\n",
        "\n",
        "len(strat_train)"
      ],
      "metadata": {
        "colab": {
          "base_uri": "https://localhost:8080/"
        },
        "id": "RcxcucrhKdTO",
        "outputId": "09f21b9d-ef92-4e75-ca5e-abd43a20664d"
      },
      "execution_count": 8,
      "outputs": [
        {
          "output_type": "execute_result",
          "data": {
            "text/plain": [
              "27701"
            ]
          },
          "metadata": {},
          "execution_count": 8
        }
      ]
    },
    {
      "cell_type": "code",
      "source": [
        "strat_train[\"reviews.rating\"].value_counts()/len(strat_train)\n",
        "print(strat_test)\n",
        "#based on column"
      ],
      "metadata": {
        "colab": {
          "base_uri": "https://localhost:8080/"
        },
        "id": "KDwoGA_9K9Ba",
        "outputId": "87055fca-d9dc-4edb-ad1b-0979280c385c"
      },
      "execution_count": 9,
      "outputs": [
        {
          "output_type": "stream",
          "name": "stdout",
          "text": [
            "                         id  \\\n",
            "20609  AV1YnRtnglJLPUi8IJmV   \n",
            "14277  AVphgVaX1cnluZ0-DR74   \n",
            "21986  AVpfl8cLLJeJML43AE3S   \n",
            "4401   AVphgVaX1cnluZ0-DR74   \n",
            "8838   AVphgVaX1cnluZ0-DR74   \n",
            "...                     ...   \n",
            "2031   AVqkIhwDv8e3D1O-lebb   \n",
            "2350   AVqkIhwDv8e3D1O-lebb   \n",
            "16698  AVqVGWLKnnc1JgDc3jF1   \n",
            "3414   AVsRjfwAU2_QcyX9PHqe   \n",
            "28177  AVpfl8cLLJeJML43AE3S   \n",
            "\n",
            "                                                    name  \\\n",
            "20609  Kindle Voyage E-reader, 6 High-Resolution Disp...   \n",
            "14277  Fire Tablet, 7 Display, Wi-Fi, 8 GB - Includes...   \n",
            "21986                   Echo (White),,,\\nEcho (White),,,   \n",
            "4401   Fire Tablet, 7 Display, Wi-Fi, 8 GB - Includes...   \n",
            "8838   Fire Tablet, 7 Display, Wi-Fi, 8 GB - Includes...   \n",
            "...                                                  ...   \n",
            "2031   All-New Fire HD 8 Tablet, 8 HD Display, Wi-Fi,...   \n",
            "2350   All-New Fire HD 8 Tablet, 8 HD Display, Wi-Fi,...   \n",
            "16698  Fire Kids Edition Tablet, 7 Display, Wi-Fi, 16...   \n",
            "3414   All-New Kindle E-reader - Black, 6 Glare-Free ...   \n",
            "28177                                                NaN   \n",
            "\n",
            "                       asins   brand  \\\n",
            "20609             B00OQVZDJM  Amazon   \n",
            "14277             B018Y229OU  Amazon   \n",
            "21986  B00L9EPT8O,B01E6AO69U  Amazon   \n",
            "4401              B018Y229OU  Amazon   \n",
            "8838              B018Y229OU  Amazon   \n",
            "...                      ...     ...   \n",
            "2031              B01AHB9CN2  Amazon   \n",
            "2350              B01AHB9CN2  Amazon   \n",
            "16698             B018Y23MNM  Amazon   \n",
            "3414              B01J2G4VBG  Amazon   \n",
            "28177  B00L9EPT8O,B01E6AO69U  Amazon   \n",
            "\n",
            "                                              categories  \\\n",
            "20609  Walmart for Business,Office Electronics,Tablet...   \n",
            "14277  Fire Tablets,Tablets,Computers & Tablets,All T...   \n",
            "21986  Stereos,Remote Controls,Amazon Echo,Audio Dock...   \n",
            "4401   Fire Tablets,Tablets,Computers & Tablets,All T...   \n",
            "8838   Fire Tablets,Tablets,Computers & Tablets,All T...   \n",
            "...                                                  ...   \n",
            "2031   Electronics,iPad & Tablets,All Tablets,Fire Ta...   \n",
            "2350   Electronics,iPad & Tablets,All Tablets,Fire Ta...   \n",
            "16698  Tablets,Fire Tablets,Computers & Tablets,All T...   \n",
            "3414   Amazon Devices & Accessories,Amazon Device Acc...   \n",
            "28177  Stereos,Remote Controls,Amazon Echo,Audio Dock...   \n",
            "\n",
            "                                                    keys manufacturer  \\\n",
            "20609  amazon/b00oqvzdjm,848719056099,amazonkindlepap...       Amazon   \n",
            "14277  firetablet7displaywifi8gbincludesspecialoffers...       Amazon   \n",
            "21986  echowhite/263039693056,echowhite/152558276095,...       Amazon   \n",
            "4401   firetablet7displaywifi8gbincludesspecialoffers...       Amazon   \n",
            "8838   firetablet7displaywifi8gbincludesspecialoffers...       Amazon   \n",
            "...                                                  ...          ...   \n",
            "2031   841667104676,amazon/53004484,amazon/b01ahb9cn2...       Amazon   \n",
            "2350   841667104676,amazon/53004484,amazon/b01ahb9cn2...       Amazon   \n",
            "16698  firekidseditiontablet7displaywifi16gbgreenkidp...       Amazon   \n",
            "3414   0841667120171,841667120171,amazon5wusbofficial...       Amazon   \n",
            "28177  echowhite/263039693056,echowhite/152558276095,...       Amazon   \n",
            "\n",
            "                   reviews.date     reviews.dateAdded  \\\n",
            "20609  2017-02-04T00:00:00.000Z  2017-09-05T22:09:30Z   \n",
            "14277  2015-12-04T00:00:00.000Z  2017-05-21T04:05:07Z   \n",
            "21986  2017-05-12T00:00:00.000Z                   NaN   \n",
            "4401   2015-12-16T00:00:00.000Z  2017-05-21T04:01:34Z   \n",
            "8838   2017-01-16T00:00:00.000Z  2017-05-21T01:35:12Z   \n",
            "...                         ...                   ...   \n",
            "2031   2017-01-23T00:00:00.000Z  2017-05-21T06:01:49Z   \n",
            "2350   2017-01-13T00:00:00.000Z  2017-05-21T06:03:06Z   \n",
            "16698  2016-11-02T00:00:00.000Z  2017-06-21T07:38:06Z   \n",
            "3414   2017-10-18T00:00:00.000Z                   NaN   \n",
            "28177  2016-09-11T00:00:00.000Z                   NaN   \n",
            "\n",
            "                                        reviews.dateSeen  ...  \\\n",
            "20609  2017-08-31T22:32:35.257Z,2017-08-02T19:54:39.5...  ...   \n",
            "14277  2017-04-30T00:26:00.000Z,2017-06-07T08:10:00.000Z  ...   \n",
            "21986  2017-09-28T00:00:00Z,2017-09-08T00:00:00Z,2017...  ...   \n",
            "4401   2017-04-30T00:25:00.000Z,2017-06-07T08:11:00.000Z  ...   \n",
            "8838   2017-04-30T00:11:00.000Z,2017-06-07T08:12:00.000Z  ...   \n",
            "...                                                  ...  ...   \n",
            "2031   2017-04-30T00:44:00.000Z,2017-06-07T09:04:00.000Z  ...   \n",
            "2350   2017-04-30T00:45:00.000Z,2017-06-07T09:04:00.000Z  ...   \n",
            "16698  2017-06-04T02:17:21.471Z,2017-06-03T18:41:42.393Z  ...   \n",
            "3414                                2017-12-30T00:00:00Z  ...   \n",
            "28177  2017-09-28T00:00:00Z,2017-09-08T00:00:00Z,2017...  ...   \n",
            "\n",
            "      reviews.doRecommend reviews.id  reviews.numHelpful  reviews.rating  \\\n",
            "20609                True        NaN                 0.0             5.0   \n",
            "14277                True        NaN                 1.0             5.0   \n",
            "21986                True        NaN                 0.0             5.0   \n",
            "4401                 True        NaN                 0.0             4.0   \n",
            "8838                False        NaN                 0.0             2.0   \n",
            "...                   ...        ...                 ...             ...   \n",
            "2031                 True        NaN                 0.0             5.0   \n",
            "2350                 True        NaN                 0.0             5.0   \n",
            "16698                True        NaN                 1.0             5.0   \n",
            "3414                  NaN        NaN                 NaN             5.0   \n",
            "28177                True        NaN                 0.0             5.0   \n",
            "\n",
            "                                      reviews.sourceURLs  \\\n",
            "20609  http://reviews.bestbuy.com/3545/9439005/review...   \n",
            "14277  http://reviews.bestbuy.com/3545/5025800/review...   \n",
            "21986  http://reviews.bestbuy.com/3545/5588528/review...   \n",
            "4401   http://reviews.bestbuy.com/3545/5025800/review...   \n",
            "8838   http://reviews.bestbuy.com/3545/5025800/review...   \n",
            "...                                                  ...   \n",
            "2031   http://reviews.bestbuy.com/3545/5620406/review...   \n",
            "2350   http://reviews.bestbuy.com/3545/5620406/review...   \n",
            "16698  http://reviews.bestbuy.com/3545/5026300/review...   \n",
            "3414   https://www.amazon.com/product-reviews/B01J2G4...   \n",
            "28177  http://reviews.bestbuy.com/3545/5588528/review...   \n",
            "\n",
            "                                            reviews.text  \\\n",
            "20609  Had a gen 1 Kindle and so glad I moved up to t...   \n",
            "14277  I love it. Especially for the price..............   \n",
            "21986  Very functional, easy set-up and great so be q...   \n",
            "4401   Bought this tablet for my daughter so far so g...   \n",
            "8838   We bought the tablet for work, but the only ap...   \n",
            "...                                                  ...   \n",
            "2031   Works flawlessly. Good contender to my brother...   \n",
            "2350   This is an awesome tablet, fast, great HD disp...   \n",
            "16698  These kindle tablets are beginning to get pret...   \n",
            "3414                                       Good product.   \n",
            "28177  This just is so much fun to use. So easy to as...   \n",
            "\n",
            "                                           reviews.title reviews.userCity  \\\n",
            "20609                                       Best Upgrade              NaN   \n",
            "14277                                Great little tablet              NaN   \n",
            "21986                            Best purchase in years.              NaN   \n",
            "4401                                                Nice              NaN   \n",
            "8838                            Not able to downloan app              NaN   \n",
            "...                                                  ...              ...   \n",
            "2031                                              Great.              NaN   \n",
            "2350                    Great for entertainment & e-mail              NaN   \n",
            "16698  Name brand kids tablet for the price of a cheapie              NaN   \n",
            "3414                                          Five Stars              NaN   \n",
            "28177                                  New favorite toy.              NaN   \n",
            "\n",
            "       reviews.userProvince  reviews.username  \n",
            "20609                   NaN             Horst  \n",
            "14277                   NaN         Shama6568  \n",
            "21986                   NaN          Benjamin  \n",
            "4401                    NaN            Dadof3  \n",
            "8838                    NaN             Butch  \n",
            "...                     ...               ...  \n",
            "2031                    NaN          Scarecow  \n",
            "2350                    NaN              BD50  \n",
            "16698                   NaN              Mark  \n",
            "3414                    NaN      Robert Szucs  \n",
            "28177                   NaN         Jimmyjo71  \n",
            "\n",
            "[6926 rows x 21 columns]\n"
          ]
        }
      ]
    },
    {
      "cell_type": "code",
      "source": [
        "strat_test[\"reviews.rating\"].value_counts()/len(strat_test)"
      ],
      "metadata": {
        "colab": {
          "base_uri": "https://localhost:8080/"
        },
        "id": "vYX5gaCbLQJC",
        "outputId": "e31a68b4-e3ab-4cdb-cfb4-0e84eb4ac88b"
      },
      "execution_count": 10,
      "outputs": [
        {
          "output_type": "execute_result",
          "data": {
            "text/plain": [
              "5.0    0.689864\n",
              "4.0    0.244730\n",
              "3.0    0.042160\n",
              "1.0    0.011406\n",
              "2.0    0.011118\n",
              "Name: reviews.rating, dtype: float64"
            ]
          },
          "metadata": {},
          "execution_count": 10
        }
      ]
    },
    {
      "cell_type": "code",
      "source": [
        "reviews = strat_train.copy()\n",
        "reviews.head()"
      ],
      "metadata": {
        "colab": {
          "base_uri": "https://localhost:8080/",
          "height": 664
        },
        "id": "R4Je-GkXLcO7",
        "outputId": "5716e3a4-a1d5-4493-83a3-0d5011bfaf14"
      },
      "execution_count": 11,
      "outputs": [
        {
          "output_type": "execute_result",
          "data": {
            "text/plain": [
              "                         id  \\\n",
              "4349   AVphgVaX1cnluZ0-DR74   \n",
              "30776  AV1YE_muvKc47QAVgpwE   \n",
              "28775  AVpidLjVilAPnD_xEVpI   \n",
              "1136   AVqkIhwDv8e3D1O-lebb   \n",
              "17803  AV1YnRtnglJLPUi8IJmV   \n",
              "\n",
              "                                                    name       asins  \\\n",
              "4349   Fire Tablet, 7 Display, Wi-Fi, 8 GB - Includes...  B018Y229OU   \n",
              "30776                                                NaN  B00U3FPN4U   \n",
              "28775                                                NaN  B0189XYY0Q   \n",
              "1136   All-New Fire HD 8 Tablet, 8 HD Display, Wi-Fi,...  B01AHB9CN2   \n",
              "17803  Amazon Kindle Paperwhite - eBook reader - 4 GB...  B00OQVZDJM   \n",
              "\n",
              "                brand                                         categories  \\\n",
              "4349           Amazon  Fire Tablets,Tablets,Computers & Tablets,All T...   \n",
              "30776  Amazon Fire Tv  Back To College,College Electronics,College Tv...   \n",
              "28775     Amazon Fire  Electronics,Tablets & E-Readers,Tablets,Back T...   \n",
              "1136           Amazon  Electronics,iPad & Tablets,All Tablets,Fire Ta...   \n",
              "17803          Amazon  Walmart for Business,Office Electronics,Tablet...   \n",
              "\n",
              "                                                    keys manufacturer  \\\n",
              "4349   firetablet7displaywifi8gbincludesspecialoffers...       Amazon   \n",
              "30776  848719057492,amazonfiretv/51454342,amazonfiret...       Amazon   \n",
              "28775  841667101743,amazonfire/51441641,amazonfirehd1...       Amazon   \n",
              "1136   841667104676,amazon/53004484,amazon/b01ahb9cn2...       Amazon   \n",
              "17803  amazon/b00oqvzdjm,848719056099,amazonkindlepap...       Amazon   \n",
              "\n",
              "                   reviews.date     reviews.dateAdded  \\\n",
              "4349   2015-11-28T00:00:00.000Z  2017-05-21T04:06:08Z   \n",
              "30776  2017-01-06T00:00:00.000Z  2017-09-20T05:35:55Z   \n",
              "28775  2017-03-11T00:00:00.000Z                   NaN   \n",
              "1136   2017-02-04T00:00:00.000Z  2017-05-21T05:56:10Z   \n",
              "17803  2015-10-22T00:00:00.000Z  2017-09-05T22:09:30Z   \n",
              "\n",
              "                                        reviews.dateSeen  ...  \\\n",
              "4349   2017-04-30T00:26:00.000Z,2017-06-07T08:10:00.000Z  ...   \n",
              "30776  2017-08-25T22:21:42.763Z,2017-08-19T09:26:46.1...  ...   \n",
              "28775  2017-09-03T08:45:20.825Z,2017-08-27T11:01:01.1...  ...   \n",
              "1136   2017-04-30T00:42:00.000Z,2017-06-07T09:04:00.000Z  ...   \n",
              "17803  2017-08-31T22:34:06.437Z,2017-08-02T19:49:50.3...  ...   \n",
              "\n",
              "      reviews.doRecommend reviews.id  reviews.numHelpful  reviews.rating  \\\n",
              "4349                 True        NaN                 5.0             5.0   \n",
              "30776                True        NaN                 0.0             5.0   \n",
              "28775               False        NaN                 0.0             3.0   \n",
              "1136                 True        NaN                 1.0             4.0   \n",
              "17803                True        NaN                 0.0             4.0   \n",
              "\n",
              "                                      reviews.sourceURLs  \\\n",
              "4349   http://reviews.bestbuy.com/3545/5025800/review...   \n",
              "30776  http://reviews.bestbuy.com/3545/4370400/review...   \n",
              "28775  http://reviews.bestbuy.com/3545/5386601/review...   \n",
              "1136   http://reviews.bestbuy.com/3545/5620406/review...   \n",
              "17803  http://reviews.bestbuy.com/3545/9439005/review...   \n",
              "\n",
              "                                            reviews.text  \\\n",
              "4349   we bought this for my 11 year old daughter and...   \n",
              "30776  I have the Roku 4, and new Apple TV, this stre...   \n",
              "28775  This is my 3rd Kindle. I have continued to mov...   \n",
              "1136   enjoying reading via the device; lots of optio...   \n",
              "17803  If you want an e book reader that is light, ea...   \n",
              "\n",
              "                             reviews.title reviews.userCity  \\\n",
              "4349                    great for all ages              NaN   \n",
              "30776                  Great streaming box              NaN   \n",
              "28775                        My 3rd Kindle              NaN   \n",
              "1136   easy to use; a little heavy to hold              NaN   \n",
              "17803        As an e reader this is great!              NaN   \n",
              "\n",
              "       reviews.userProvince  reviews.username  \n",
              "4349                    NaN              Mark  \n",
              "30776                   NaN            Techno  \n",
              "28775                   NaN          Sunshine  \n",
              "1136                    NaN              bird  \n",
              "17803                   NaN            Thomas  \n",
              "\n",
              "[5 rows x 21 columns]"
            ],
            "text/html": [
              "\n",
              "  <div id=\"df-9ee3ba48-6e76-4c3e-bb28-a76648e2261a\">\n",
              "    <div class=\"colab-df-container\">\n",
              "      <div>\n",
              "<style scoped>\n",
              "    .dataframe tbody tr th:only-of-type {\n",
              "        vertical-align: middle;\n",
              "    }\n",
              "\n",
              "    .dataframe tbody tr th {\n",
              "        vertical-align: top;\n",
              "    }\n",
              "\n",
              "    .dataframe thead th {\n",
              "        text-align: right;\n",
              "    }\n",
              "</style>\n",
              "<table border=\"1\" class=\"dataframe\">\n",
              "  <thead>\n",
              "    <tr style=\"text-align: right;\">\n",
              "      <th></th>\n",
              "      <th>id</th>\n",
              "      <th>name</th>\n",
              "      <th>asins</th>\n",
              "      <th>brand</th>\n",
              "      <th>categories</th>\n",
              "      <th>keys</th>\n",
              "      <th>manufacturer</th>\n",
              "      <th>reviews.date</th>\n",
              "      <th>reviews.dateAdded</th>\n",
              "      <th>reviews.dateSeen</th>\n",
              "      <th>...</th>\n",
              "      <th>reviews.doRecommend</th>\n",
              "      <th>reviews.id</th>\n",
              "      <th>reviews.numHelpful</th>\n",
              "      <th>reviews.rating</th>\n",
              "      <th>reviews.sourceURLs</th>\n",
              "      <th>reviews.text</th>\n",
              "      <th>reviews.title</th>\n",
              "      <th>reviews.userCity</th>\n",
              "      <th>reviews.userProvince</th>\n",
              "      <th>reviews.username</th>\n",
              "    </tr>\n",
              "  </thead>\n",
              "  <tbody>\n",
              "    <tr>\n",
              "      <th>4349</th>\n",
              "      <td>AVphgVaX1cnluZ0-DR74</td>\n",
              "      <td>Fire Tablet, 7 Display, Wi-Fi, 8 GB - Includes...</td>\n",
              "      <td>B018Y229OU</td>\n",
              "      <td>Amazon</td>\n",
              "      <td>Fire Tablets,Tablets,Computers &amp; Tablets,All T...</td>\n",
              "      <td>firetablet7displaywifi8gbincludesspecialoffers...</td>\n",
              "      <td>Amazon</td>\n",
              "      <td>2015-11-28T00:00:00.000Z</td>\n",
              "      <td>2017-05-21T04:06:08Z</td>\n",
              "      <td>2017-04-30T00:26:00.000Z,2017-06-07T08:10:00.000Z</td>\n",
              "      <td>...</td>\n",
              "      <td>True</td>\n",
              "      <td>NaN</td>\n",
              "      <td>5.0</td>\n",
              "      <td>5.0</td>\n",
              "      <td>http://reviews.bestbuy.com/3545/5025800/review...</td>\n",
              "      <td>we bought this for my 11 year old daughter and...</td>\n",
              "      <td>great for all ages</td>\n",
              "      <td>NaN</td>\n",
              "      <td>NaN</td>\n",
              "      <td>Mark</td>\n",
              "    </tr>\n",
              "    <tr>\n",
              "      <th>30776</th>\n",
              "      <td>AV1YE_muvKc47QAVgpwE</td>\n",
              "      <td>NaN</td>\n",
              "      <td>B00U3FPN4U</td>\n",
              "      <td>Amazon Fire Tv</td>\n",
              "      <td>Back To College,College Electronics,College Tv...</td>\n",
              "      <td>848719057492,amazonfiretv/51454342,amazonfiret...</td>\n",
              "      <td>Amazon</td>\n",
              "      <td>2017-01-06T00:00:00.000Z</td>\n",
              "      <td>2017-09-20T05:35:55Z</td>\n",
              "      <td>2017-08-25T22:21:42.763Z,2017-08-19T09:26:46.1...</td>\n",
              "      <td>...</td>\n",
              "      <td>True</td>\n",
              "      <td>NaN</td>\n",
              "      <td>0.0</td>\n",
              "      <td>5.0</td>\n",
              "      <td>http://reviews.bestbuy.com/3545/4370400/review...</td>\n",
              "      <td>I have the Roku 4, and new Apple TV, this stre...</td>\n",
              "      <td>Great streaming box</td>\n",
              "      <td>NaN</td>\n",
              "      <td>NaN</td>\n",
              "      <td>Techno</td>\n",
              "    </tr>\n",
              "    <tr>\n",
              "      <th>28775</th>\n",
              "      <td>AVpidLjVilAPnD_xEVpI</td>\n",
              "      <td>NaN</td>\n",
              "      <td>B0189XYY0Q</td>\n",
              "      <td>Amazon Fire</td>\n",
              "      <td>Electronics,Tablets &amp; E-Readers,Tablets,Back T...</td>\n",
              "      <td>841667101743,amazonfire/51441641,amazonfirehd1...</td>\n",
              "      <td>Amazon</td>\n",
              "      <td>2017-03-11T00:00:00.000Z</td>\n",
              "      <td>NaN</td>\n",
              "      <td>2017-09-03T08:45:20.825Z,2017-08-27T11:01:01.1...</td>\n",
              "      <td>...</td>\n",
              "      <td>False</td>\n",
              "      <td>NaN</td>\n",
              "      <td>0.0</td>\n",
              "      <td>3.0</td>\n",
              "      <td>http://reviews.bestbuy.com/3545/5386601/review...</td>\n",
              "      <td>This is my 3rd Kindle. I have continued to mov...</td>\n",
              "      <td>My 3rd Kindle</td>\n",
              "      <td>NaN</td>\n",
              "      <td>NaN</td>\n",
              "      <td>Sunshine</td>\n",
              "    </tr>\n",
              "    <tr>\n",
              "      <th>1136</th>\n",
              "      <td>AVqkIhwDv8e3D1O-lebb</td>\n",
              "      <td>All-New Fire HD 8 Tablet, 8 HD Display, Wi-Fi,...</td>\n",
              "      <td>B01AHB9CN2</td>\n",
              "      <td>Amazon</td>\n",
              "      <td>Electronics,iPad &amp; Tablets,All Tablets,Fire Ta...</td>\n",
              "      <td>841667104676,amazon/53004484,amazon/b01ahb9cn2...</td>\n",
              "      <td>Amazon</td>\n",
              "      <td>2017-02-04T00:00:00.000Z</td>\n",
              "      <td>2017-05-21T05:56:10Z</td>\n",
              "      <td>2017-04-30T00:42:00.000Z,2017-06-07T09:04:00.000Z</td>\n",
              "      <td>...</td>\n",
              "      <td>True</td>\n",
              "      <td>NaN</td>\n",
              "      <td>1.0</td>\n",
              "      <td>4.0</td>\n",
              "      <td>http://reviews.bestbuy.com/3545/5620406/review...</td>\n",
              "      <td>enjoying reading via the device; lots of optio...</td>\n",
              "      <td>easy to use; a little heavy to hold</td>\n",
              "      <td>NaN</td>\n",
              "      <td>NaN</td>\n",
              "      <td>bird</td>\n",
              "    </tr>\n",
              "    <tr>\n",
              "      <th>17803</th>\n",
              "      <td>AV1YnRtnglJLPUi8IJmV</td>\n",
              "      <td>Amazon Kindle Paperwhite - eBook reader - 4 GB...</td>\n",
              "      <td>B00OQVZDJM</td>\n",
              "      <td>Amazon</td>\n",
              "      <td>Walmart for Business,Office Electronics,Tablet...</td>\n",
              "      <td>amazon/b00oqvzdjm,848719056099,amazonkindlepap...</td>\n",
              "      <td>Amazon</td>\n",
              "      <td>2015-10-22T00:00:00.000Z</td>\n",
              "      <td>2017-09-05T22:09:30Z</td>\n",
              "      <td>2017-08-31T22:34:06.437Z,2017-08-02T19:49:50.3...</td>\n",
              "      <td>...</td>\n",
              "      <td>True</td>\n",
              "      <td>NaN</td>\n",
              "      <td>0.0</td>\n",
              "      <td>4.0</td>\n",
              "      <td>http://reviews.bestbuy.com/3545/9439005/review...</td>\n",
              "      <td>If you want an e book reader that is light, ea...</td>\n",
              "      <td>As an e reader this is great!</td>\n",
              "      <td>NaN</td>\n",
              "      <td>NaN</td>\n",
              "      <td>Thomas</td>\n",
              "    </tr>\n",
              "  </tbody>\n",
              "</table>\n",
              "<p>5 rows × 21 columns</p>\n",
              "</div>\n",
              "      <button class=\"colab-df-convert\" onclick=\"convertToInteractive('df-9ee3ba48-6e76-4c3e-bb28-a76648e2261a')\"\n",
              "              title=\"Convert this dataframe to an interactive table.\"\n",
              "              style=\"display:none;\">\n",
              "        \n",
              "  <svg xmlns=\"http://www.w3.org/2000/svg\" height=\"24px\"viewBox=\"0 0 24 24\"\n",
              "       width=\"24px\">\n",
              "    <path d=\"M0 0h24v24H0V0z\" fill=\"none\"/>\n",
              "    <path d=\"M18.56 5.44l.94 2.06.94-2.06 2.06-.94-2.06-.94-.94-2.06-.94 2.06-2.06.94zm-11 1L8.5 8.5l.94-2.06 2.06-.94-2.06-.94L8.5 2.5l-.94 2.06-2.06.94zm10 10l.94 2.06.94-2.06 2.06-.94-2.06-.94-.94-2.06-.94 2.06-2.06.94z\"/><path d=\"M17.41 7.96l-1.37-1.37c-.4-.4-.92-.59-1.43-.59-.52 0-1.04.2-1.43.59L10.3 9.45l-7.72 7.72c-.78.78-.78 2.05 0 2.83L4 21.41c.39.39.9.59 1.41.59.51 0 1.02-.2 1.41-.59l7.78-7.78 2.81-2.81c.8-.78.8-2.07 0-2.86zM5.41 20L4 18.59l7.72-7.72 1.47 1.35L5.41 20z\"/>\n",
              "  </svg>\n",
              "      </button>\n",
              "      \n",
              "  <style>\n",
              "    .colab-df-container {\n",
              "      display:flex;\n",
              "      flex-wrap:wrap;\n",
              "      gap: 12px;\n",
              "    }\n",
              "\n",
              "    .colab-df-convert {\n",
              "      background-color: #E8F0FE;\n",
              "      border: none;\n",
              "      border-radius: 50%;\n",
              "      cursor: pointer;\n",
              "      display: none;\n",
              "      fill: #1967D2;\n",
              "      height: 32px;\n",
              "      padding: 0 0 0 0;\n",
              "      width: 32px;\n",
              "    }\n",
              "\n",
              "    .colab-df-convert:hover {\n",
              "      background-color: #E2EBFA;\n",
              "      box-shadow: 0px 1px 2px rgba(60, 64, 67, 0.3), 0px 1px 3px 1px rgba(60, 64, 67, 0.15);\n",
              "      fill: #174EA6;\n",
              "    }\n",
              "\n",
              "    [theme=dark] .colab-df-convert {\n",
              "      background-color: #3B4455;\n",
              "      fill: #D2E3FC;\n",
              "    }\n",
              "\n",
              "    [theme=dark] .colab-df-convert:hover {\n",
              "      background-color: #434B5C;\n",
              "      box-shadow: 0px 1px 3px 1px rgba(0, 0, 0, 0.15);\n",
              "      filter: drop-shadow(0px 1px 2px rgba(0, 0, 0, 0.3));\n",
              "      fill: #FFFFFF;\n",
              "    }\n",
              "  </style>\n",
              "\n",
              "      <script>\n",
              "        const buttonEl =\n",
              "          document.querySelector('#df-9ee3ba48-6e76-4c3e-bb28-a76648e2261a button.colab-df-convert');\n",
              "        buttonEl.style.display =\n",
              "          google.colab.kernel.accessAllowed ? 'block' : 'none';\n",
              "\n",
              "        async function convertToInteractive(key) {\n",
              "          const element = document.querySelector('#df-9ee3ba48-6e76-4c3e-bb28-a76648e2261a');\n",
              "          const dataTable =\n",
              "            await google.colab.kernel.invokeFunction('convertToInteractive',\n",
              "                                                     [key], {});\n",
              "          if (!dataTable) return;\n",
              "\n",
              "          const docLinkHtml = 'Like what you see? Visit the ' +\n",
              "            '<a target=\"_blank\" href=https://colab.research.google.com/notebooks/data_table.ipynb>data table notebook</a>'\n",
              "            + ' to learn more about interactive tables.';\n",
              "          element.innerHTML = '';\n",
              "          dataTable['output_type'] = 'display_data';\n",
              "          await google.colab.output.renderOutput(dataTable, element);\n",
              "          const docLink = document.createElement('div');\n",
              "          docLink.innerHTML = docLinkHtml;\n",
              "          element.appendChild(docLink);\n",
              "        }\n",
              "      </script>\n",
              "    </div>\n",
              "  </div>\n",
              "  "
            ]
          },
          "metadata": {},
          "execution_count": 11
        }
      ]
    },
    {
      "cell_type": "code",
      "source": [
        "len(reviews[\"name\"].unique()), len(reviews[\"asins\"].unique())"
      ],
      "metadata": {
        "colab": {
          "base_uri": "https://localhost:8080/"
        },
        "id": "G2aq3EJDLstC",
        "outputId": "eedcad8a-6f8f-422d-969c-3b0d6b732aed"
      },
      "execution_count": 12,
      "outputs": [
        {
          "output_type": "execute_result",
          "data": {
            "text/plain": [
              "(47, 35)"
            ]
          },
          "metadata": {},
          "execution_count": 12
        }
      ]
    },
    {
      "cell_type": "code",
      "source": [
        "reviews.groupby(\"asins\")[\"name\"].unique()"
      ],
      "metadata": {
        "colab": {
          "base_uri": "https://localhost:8080/"
        },
        "id": "3xqCGmJkL57i",
        "outputId": "1da8ac2c-e4e1-4885-9cd4-73ce332cd0a3"
      },
      "execution_count": 13,
      "outputs": [
        {
          "output_type": "execute_result",
          "data": {
            "text/plain": [
              "asins\n",
              "B005PB2T0S               [Amazon Kindle Lighted Leather Cover,,,\\nAmazo...\n",
              "B005PB2T2Q               [Fire Kids Edition Tablet, 7 Display, Wi-Fi, 1...\n",
              "B00IOY8XWQ               [Kindle Paperwhite,,,\\nKindle Paperwhite,,,, A...\n",
              "B00IOYAM4I               [Brand New Amazon Kindle Fire 16gb 7 Ips Displ...\n",
              "B00L9EPT8O,B01E6AO69U    [Echo (White),,,\\nEcho (White),,,, Amazon Fire...\n",
              "B00LO29KXQ               [Fire Tablet, 7 Display, Wi-Fi, 8 GB - Include...\n",
              "B00LW9XOJM                                                           [nan]\n",
              "B00OQVZDJM               [Amazon Kindle Paperwhite - eBook reader - 4 G...\n",
              "B00QFQRELG                                                           [nan]\n",
              "B00QJDU3KY               [Fire Tablet, 7 Display, Wi-Fi, 8 GB - Include...\n",
              "B00QL1ZN3G                                                           [nan]\n",
              "B00REQKWGA               [Brand New Amazon Kindle Fire 16gb 7 Ips Displ...\n",
              "B00TSUGXKE                              [Echo (White),,,\\nEcho (White),,,]\n",
              "B00U3FPN4U                                                           [nan]\n",
              "B00UH4D8G2                              [Echo (White),,,\\nEcho (White),,,]\n",
              "B00VINDBJK               [Kindle Oasis E-reader with Leather Charging C...\n",
              "B00X4WHP5E                                                           [nan]\n",
              "B00ZV9PXP2               [Fire Tablet, 7 Display, Wi-Fi, 8 GB - Include...\n",
              "B0189XYY0Q                                                           [nan]\n",
              "B018SZT3BK               [Fire Tablet, 7 Display, Wi-Fi, 8 GB - Include...\n",
              "B018T075DC               [Brand New Amazon Kindle Fire 16gb 7 Ips Displ...\n",
              "B018Y225IA               [Brand New Amazon Kindle Fire 16gb 7 Ips Displ...\n",
              "B018Y229OU               [Fire Tablet, 7 Display, Wi-Fi, 8 GB - Include...\n",
              "B018Y22BI4                              [Echo (White),,,\\nEcho (White),,,]\n",
              "B018Y22C2Y               [Fire Tablet, 7 Display, Wi-Fi, 8 GB - Include...\n",
              "B018Y23MNM               [Fire Kids Edition Tablet, 7 Display, Wi-Fi, 1...\n",
              "B018Y23P7K                                                           [nan]\n",
              "B01AHB9C1E               [Amazon 5W USB Official OEM Charger and Power ...\n",
              "B01AHB9CN2               [All-New Fire HD 8 Tablet, 8 HD Display, Wi-Fi...\n",
              "B01AHB9CYG               [All-New Fire HD 8 Tablet, 8 HD Display, Wi-Fi...\n",
              "B01BFIBRIE               [Fire Tablet, 7 Display, Wi-Fi, 8 GB - Include...\n",
              "B01BH83OOM                                                           [nan]\n",
              "B01J2G4VBG               [All-New Kindle E-reader - Black, 6 Glare-Free...\n",
              "B01J4ORNHU               [Fire Tablet, 7 Display, Wi-Fi, 8 GB - Include...\n",
              "Name: name, dtype: object"
            ]
          },
          "metadata": {},
          "execution_count": 13
        }
      ]
    },
    {
      "cell_type": "code",
      "source": [
        "different_names = reviews[reviews[\"asins\"] == \"B00L9EPT8O,B01E6AO69U\"][\"name\"].unique()\n",
        "for name in different_names:\n",
        "    print(name)"
      ],
      "metadata": {
        "colab": {
          "base_uri": "https://localhost:8080/"
        },
        "id": "Zvo9TIjrMGy-",
        "outputId": "07bd3467-0269-4e05-894e-d9cc4bbbedc9"
      },
      "execution_count": 14,
      "outputs": [
        {
          "output_type": "stream",
          "name": "stdout",
          "text": [
            "Echo (White),,,\n",
            "Echo (White),,,\n",
            "Amazon Fire Tv,,,\n",
            "Amazon Fire Tv,,,\n",
            "nan\n",
            "Amazon - Amazon Tap Portable Bluetooth and Wi-Fi Speaker - Black,,,\n",
            "Amazon - Amazon Tap Portable Bluetooth and Wi-Fi Speaker - Black,,,\n",
            "Amazon Fire Hd 10 Tablet, Wi-Fi, 16 Gb, Special Offers - Silver Aluminum,,,\n",
            "Amazon Fire Hd 10 Tablet, Wi-Fi, 16 Gb, Special Offers - Silver Aluminum,,,\n",
            "Amazon 9W PowerFast Official OEM USB Charger and Power Adapter for Fire Tablets and Kindle eReaders,,,\n",
            "Amazon 9W PowerFast Official OEM USB Charger and Power Adapter for Fire Tablets and Kindle eReaders,,,\n",
            "Amazon Kindle Fire 5ft USB to Micro-USB Cable (works with most Micro-USB Tablets),,,\n",
            "Amazon Kindle Fire 5ft USB to Micro-USB Cable (works with most Micro-USB Tablets),,,\n",
            "Kindle Dx Leather Cover, Black (fits 9.7 Display, Latest and 2nd Generation Kindle Dxs),,\n",
            "Amazon Fire Hd 6 Standing Protective Case(4th Generation - 2014 Release), Cayenne Red,,,\n",
            "Amazon Fire Hd 6 Standing Protective Case(4th Generation - 2014 Release), Cayenne Red,,,\n",
            "Amazon Fire Hd 6 Standing Protective Case(4th Generation - 2014 Release), Cayenne Red,,,\n",
            "Amazon 5W USB Official OEM Charger and Power Adapter for Fire Tablets and Kindle eReaders,,,\n",
            "New Amazon Kindle Fire Hd 9w Powerfast Adapter Charger + Micro Usb Angle Cable,,,\n",
            "New Amazon Kindle Fire Hd 9w Powerfast Adapter Charger + Micro Usb Angle Cable,,,\n",
            "Amazon 5W USB Official OEM Charger and Power Adapter for Fire Tablets and Kindle eReaders,,,\n",
            "Amazon 5W USB Official OEM Charger and Power Adapter for Fire Tablets and Kindle eReaders,,,\n",
            "Echo (White),,,\n",
            "Fire Tablet, 7 Display, Wi-Fi, 8 GB - Includes Special Offers, Tangerine\"\n",
            "Echo (Black),,,\n",
            "Amazon 9W PowerFast Official OEM USB Charger and Power Adapter for Fire Tablets and Kindle eReaders,,,\n",
            "Echo (Black),,,\n",
            "Echo (Black),,,\n",
            "Amazon Fire Tv,,,\n",
            "Kindle Dx Leather Cover, Black (fits 9.7 Display, Latest and 2nd Generation Kindle Dxs)\",,\n",
            "New Amazon Kindle Fire Hd 9w Powerfast Adapter Charger + Micro Usb Angle Cable,,,\n",
            "\n"
          ]
        }
      ]
    },
    {
      "cell_type": "code",
      "source": [
        "fig = plt.figure(figsize=(16, 10))\n",
        "ax1 = plt.subplot(211)\n",
        "ax2 = plt.subplot(212, sharex = ax1)\n",
        "reviews[\"asins\"].value_counts().plot(kind=\"bar\", ax=ax1, title=\"ASIN Frequency\")\n",
        "np.log10(reviews[\"asins\"].value_counts()).plot(kind=\"bar\", ax=ax2, title=\"ASIN Frequency(Log10 Adjusted\")"
      ],
      "metadata": {
        "colab": {
          "base_uri": "https://localhost:8080/",
          "height": 513
        },
        "id": "0lSgtFBkMRAK",
        "outputId": "062b5366-7387-45b0-b3da-265135c5a4aa"
      },
      "execution_count": 15,
      "outputs": [
        {
          "output_type": "execute_result",
          "data": {
            "text/plain": [
              "<matplotlib.axes._subplots.AxesSubplot at 0x7f94af5e4c50>"
            ]
          },
          "metadata": {},
          "execution_count": 15
        },
        {
          "output_type": "display_data",
          "data": {
            "text/plain": [
              "<Figure size 1152x720 with 2 Axes>"
            ],
            "image/png": "[encoded data removed]"
          },
          "metadata": {
            "needs_background": "light"
          }
        }
      ]
    },
    {
      "cell_type": "code",
      "source": [
        "reviews[\"reviews.rating\"].mean()"
      ],
      "metadata": {
        "colab": {
          "base_uri": "https://localhost:8080/"
        },
        "id": "1phkSrZTM5GD",
        "outputId": "faf20ccd-0920-4d7a-879f-e84a458219ef"
      },
      "execution_count": 16,
      "outputs": [
        {
          "output_type": "execute_result",
          "data": {
            "text/plain": [
              "4.5841072525566435"
            ]
          },
          "metadata": {},
          "execution_count": 16
        }
      ]
    },
    {
      "cell_type": "code",
      "source": [
        "asins_count = reviews[\"asins\"].value_counts().index\n",
        "plt.subplots(2, 1, figsize=(16, 12))\n",
        "plt.subplot(2, 1, 1)\n",
        "reviews[\"asins\"].value_counts().plot(kind=\"bar\", title=\"ASIN Frequency\")\n",
        "plt.subplot(2, 1, 2)\n",
        "\n",
        "plt.subplot(2, 1, 2)\n",
        "sns.pointplot(x = \"asins\", y=\"reviews.rating\", order=asins_count, data=reviews)\n",
        "plt.xticks(rotation=90)\n",
        "plt.show()"
      ],
      "metadata": {
        "colab": {
          "base_uri": "https://localhost:8080/",
          "height": 575
        },
        "id": "YBZO5n9sNHgi",
        "outputId": "f0289df0-e71f-449d-b4db-3ac70bd51b12"
      },
      "execution_count": 17,
      "outputs": [
        {
          "output_type": "display_data",
          "data": {
            "text/plain": [
              "<Figure size 1152x864 with 2 Axes>"
            ],
            "image/png": "[encoded data removed]"
          },
          "metadata": {
            "needs_background": "light"
          }
        }
      ]
    },
    {
      "cell_type": "code",
      "source": [
        "plt.subplots(2,1, figsize=(16, 12))\n",
        "plt.subplot(2, 1, 1)\n",
        "reviews[\"asins\"].value_counts().plot(kind=\"bar\", title=\"ASIN Frequency\")\n",
        "plt.subplot(2,1,2)\n",
        "sns.pointplot(x=\"asins\", y=\"reviews.doRecommend\", order=asins_count, data=reviews)\n",
        "plt.xticks(rotation=90)\n",
        "plt.show()"
      ],
      "metadata": {
        "id": "Um2-TLz4OZa9",
        "colab": {
          "base_uri": "https://localhost:8080/",
          "height": 575
        },
        "outputId": "16b71d61-0ba0-4a9e-dd35-666cb676deb8"
      },
      "execution_count": 19,
      "outputs": [
        {
          "output_type": "display_data",
          "data": {
            "text/plain": [
              "<Figure size 1152x864 with 2 Axes>"
            ],
            "image/png": "[encoded data removed]"
          },
          "metadata": {
            "needs_background": "light"
          }
        }
      ]
    },
    {
      "cell_type": "code",
      "source": [
        "#correlations\n",
        "corr_matrix = reviews.corr()\n",
        "corr_matrix\n"
      ],
      "metadata": {
        "colab": {
          "base_uri": "https://localhost:8080/",
          "height": 270
        },
        "id": "CjBIs2oDaG8l",
        "outputId": "f57ca2d8-2cff-4c9b-97fc-7bd3d06b184d"
      },
      "execution_count": 20,
      "outputs": [
        {
          "output_type": "execute_result",
          "data": {
            "text/plain": [
              "                      reviews.id  reviews.numHelpful  reviews.rating  \\\n",
              "reviews.id                   NaN                 NaN             NaN   \n",
              "reviews.numHelpful           NaN             1.00000        -0.04372   \n",
              "reviews.rating               NaN            -0.04372         1.00000   \n",
              "reviews.userCity             NaN                 NaN             NaN   \n",
              "reviews.userProvince         NaN                 NaN             NaN   \n",
              "\n",
              "                      reviews.userCity  reviews.userProvince  \n",
              "reviews.id                         NaN                   NaN  \n",
              "reviews.numHelpful                 NaN                   NaN  \n",
              "reviews.rating                     NaN                   NaN  \n",
              "reviews.userCity                   NaN                   NaN  \n",
              "reviews.userProvince               NaN                   NaN  "
            ],
            "text/html": [
              "\n",
              "  <div id=\"df-4689f912-4a85-4d33-a20f-76b7e15a718c\">\n",
              "    <div class=\"colab-df-container\">\n",
              "      <div>\n",
              "<style scoped>\n",
              "    .dataframe tbody tr th:only-of-type {\n",
              "        vertical-align: middle;\n",
              "    }\n",
              "\n",
              "    .dataframe tbody tr th {\n",
              "        vertical-align: top;\n",
              "    }\n",
              "\n",
              "    .dataframe thead th {\n",
              "        text-align: right;\n",
              "    }\n",
              "</style>\n",
              "<table border=\"1\" class=\"dataframe\">\n",
              "  <thead>\n",
              "    <tr style=\"text-align: right;\">\n",
              "      <th></th>\n",
              "      <th>reviews.id</th>\n",
              "      <th>reviews.numHelpful</th>\n",
              "      <th>reviews.rating</th>\n",
              "      <th>reviews.userCity</th>\n",
              "      <th>reviews.userProvince</th>\n",
              "    </tr>\n",
              "  </thead>\n",
              "  <tbody>\n",
              "    <tr>\n",
              "      <th>reviews.id</th>\n",
              "      <td>NaN</td>\n",
              "      <td>NaN</td>\n",
              "      <td>NaN</td>\n",
              "      <td>NaN</td>\n",
              "      <td>NaN</td>\n",
              "    </tr>\n",
              "    <tr>\n",
              "      <th>reviews.numHelpful</th>\n",
              "      <td>NaN</td>\n",
              "      <td>1.00000</td>\n",
              "      <td>-0.04372</td>\n",
              "      <td>NaN</td>\n",
              "      <td>NaN</td>\n",
              "    </tr>\n",
              "    <tr>\n",
              "      <th>reviews.rating</th>\n",
              "      <td>NaN</td>\n",
              "      <td>-0.04372</td>\n",
              "      <td>1.00000</td>\n",
              "      <td>NaN</td>\n",
              "      <td>NaN</td>\n",
              "    </tr>\n",
              "    <tr>\n",
              "      <th>reviews.userCity</th>\n",
              "      <td>NaN</td>\n",
              "      <td>NaN</td>\n",
              "      <td>NaN</td>\n",
              "      <td>NaN</td>\n",
              "      <td>NaN</td>\n",
              "    </tr>\n",
              "    <tr>\n",
              "      <th>reviews.userProvince</th>\n",
              "      <td>NaN</td>\n",
              "      <td>NaN</td>\n",
              "      <td>NaN</td>\n",
              "      <td>NaN</td>\n",
              "      <td>NaN</td>\n",
              "    </tr>\n",
              "  </tbody>\n",
              "</table>\n",
              "</div>\n",
              "      <button class=\"colab-df-convert\" onclick=\"convertToInteractive('df-4689f912-4a85-4d33-a20f-76b7e15a718c')\"\n",
              "              title=\"Convert this dataframe to an interactive table.\"\n",
              "              style=\"display:none;\">\n",
              "        \n",
              "  <svg xmlns=\"http://www.w3.org/2000/svg\" height=\"24px\"viewBox=\"0 0 24 24\"\n",
              "       width=\"24px\">\n",
              "    <path d=\"M0 0h24v24H0V0z\" fill=\"none\"/>\n",
              "    <path d=\"M18.56 5.44l.94 2.06.94-2.06 2.06-.94-2.06-.94-.94-2.06-.94 2.06-2.06.94zm-11 1L8.5 8.5l.94-2.06 2.06-.94-2.06-.94L8.5 2.5l-.94 2.06-2.06.94zm10 10l.94 2.06.94-2.06 2.06-.94-2.06-.94-.94-2.06-.94 2.06-2.06.94z\"/><path d=\"M17.41 7.96l-1.37-1.37c-.4-.4-.92-.59-1.43-.59-.52 0-1.04.2-1.43.59L10.3 9.45l-7.72 7.72c-.78.78-.78 2.05 0 2.83L4 21.41c.39.39.9.59 1.41.59.51 0 1.02-.2 1.41-.59l7.78-7.78 2.81-2.81c.8-.78.8-2.07 0-2.86zM5.41 20L4 18.59l7.72-7.72 1.47 1.35L5.41 20z\"/>\n",
              "  </svg>\n",
              "      </button>\n",
              "      \n",
              "  <style>\n",
              "    .colab-df-container {\n",
              "      display:flex;\n",
              "      flex-wrap:wrap;\n",
              "      gap: 12px;\n",
              "    }\n",
              "\n",
              "    .colab-df-convert {\n",
              "      background-color: #E8F0FE;\n",
              "      border: none;\n",
              "      border-radius: 50%;\n",
              "      cursor: pointer;\n",
              "      display: none;\n",
              "      fill: #1967D2;\n",
              "      height: 32px;\n",
              "      padding: 0 0 0 0;\n",
              "      width: 32px;\n",
              "    }\n",
              "\n",
              "    .colab-df-convert:hover {\n",
              "      background-color: #E2EBFA;\n",
              "      box-shadow: 0px 1px 2px rgba(60, 64, 67, 0.3), 0px 1px 3px 1px rgba(60, 64, 67, 0.15);\n",
              "      fill: #174EA6;\n",
              "    }\n",
              "\n",
              "    [theme=dark] .colab-df-convert {\n",
              "      background-color: #3B4455;\n",
              "      fill: #D2E3FC;\n",
              "    }\n",
              "\n",
              "    [theme=dark] .colab-df-convert:hover {\n",
              "      background-color: #434B5C;\n",
              "      box-shadow: 0px 1px 3px 1px rgba(0, 0, 0, 0.15);\n",
              "      filter: drop-shadow(0px 1px 2px rgba(0, 0, 0, 0.3));\n",
              "      fill: #FFFFFF;\n",
              "    }\n",
              "  </style>\n",
              "\n",
              "      <script>\n",
              "        const buttonEl =\n",
              "          document.querySelector('#df-4689f912-4a85-4d33-a20f-76b7e15a718c button.colab-df-convert');\n",
              "        buttonEl.style.display =\n",
              "          google.colab.kernel.accessAllowed ? 'block' : 'none';\n",
              "\n",
              "        async function convertToInteractive(key) {\n",
              "          const element = document.querySelector('#df-4689f912-4a85-4d33-a20f-76b7e15a718c');\n",
              "          const dataTable =\n",
              "            await google.colab.kernel.invokeFunction('convertToInteractive',\n",
              "                                                     [key], {});\n",
              "          if (!dataTable) return;\n",
              "\n",
              "          const docLinkHtml = 'Like what you see? Visit the ' +\n",
              "            '<a target=\"_blank\" href=https://colab.research.google.com/notebooks/data_table.ipynb>data table notebook</a>'\n",
              "            + ' to learn more about interactive tables.';\n",
              "          element.innerHTML = '';\n",
              "          dataTable['output_type'] = 'display_data';\n",
              "          await google.colab.output.renderOutput(dataTable, element);\n",
              "          const docLink = document.createElement('div');\n",
              "          docLink.innerHTML = docLinkHtml;\n",
              "          element.appendChild(docLink);\n",
              "        }\n",
              "      </script>\n",
              "    </div>\n",
              "  </div>\n",
              "  "
            ]
          },
          "metadata": {},
          "execution_count": 20
        }
      ]
    },
    {
      "cell_type": "code",
      "source": [
        "reviews.info()"
      ],
      "metadata": {
        "colab": {
          "base_uri": "https://localhost:8080/"
        },
        "id": "DK5MX32saavM",
        "outputId": "e958929e-f901-47c5-ad39-6e978220ebad"
      },
      "execution_count": 21,
      "outputs": [
        {
          "output_type": "stream",
          "name": "stdout",
          "text": [
            "<class 'pandas.core.frame.DataFrame'>\n",
            "Int64Index: 27701 entries, 4349 to 29636\n",
            "Data columns (total 21 columns):\n",
            " #   Column                Non-Null Count  Dtype  \n",
            "---  ------                --------------  -----  \n",
            " 0   id                    27673 non-null  object \n",
            " 1   name                  22268 non-null  object \n",
            " 2   asins                 27672 non-null  object \n",
            " 3   brand                 27673 non-null  object \n",
            " 4   categories            27673 non-null  object \n",
            " 5   keys                  27673 non-null  object \n",
            " 6   manufacturer          27673 non-null  object \n",
            " 7   reviews.date          27659 non-null  object \n",
            " 8   reviews.dateAdded     19228 non-null  object \n",
            " 9   reviews.dateSeen      27673 non-null  object \n",
            " 10  reviews.didPurchase   1 non-null      object \n",
            " 11  reviews.doRecommend   27257 non-null  object \n",
            " 12  reviews.id            1 non-null      float64\n",
            " 13  reviews.numHelpful    27304 non-null  float64\n",
            " 14  reviews.rating        27673 non-null  float64\n",
            " 15  reviews.sourceURLs    27673 non-null  object \n",
            " 16  reviews.text          27672 non-null  object \n",
            " 17  reviews.title         27668 non-null  object \n",
            " 18  reviews.userCity      0 non-null      float64\n",
            " 19  reviews.userProvince  0 non-null      float64\n",
            " 20  reviews.username      27671 non-null  object \n",
            "dtypes: float64(5), object(16)\n",
            "memory usage: 5.7+ MB\n"
          ]
        }
      ]
    },
    {
      "cell_type": "code",
      "source": [
        "counts  = reviews['asins'].value_counts().to_frame()\n",
        "counts.head()"
      ],
      "metadata": {
        "colab": {
          "base_uri": "https://localhost:8080/",
          "height": 206
        },
        "id": "a_gk7yUiadKC",
        "outputId": "b63f8fb0-df01-4845-bdbd-229b3a04301d"
      },
      "execution_count": 27,
      "outputs": [
        {
          "output_type": "execute_result",
          "data": {
            "text/plain": [
              "                       asins\n",
              "B018Y229OU              8772\n",
              "B00L9EPT8O,B01E6AO69U   5304\n",
              "B00U3FPN4U              4076\n",
              "B00OQVZDJM              2525\n",
              "B01AHB9CN2              2241"
            ],
            "text/html": [
              "\n",
              "  <div id=\"df-23fcb137-ad6a-47be-b9b2-de3458937d04\">\n",
              "    <div class=\"colab-df-container\">\n",
              "      <div>\n",
              "<style scoped>\n",
              "    .dataframe tbody tr th:only-of-type {\n",
              "        vertical-align: middle;\n",
              "    }\n",
              "\n",
              "    .dataframe tbody tr th {\n",
              "        vertical-align: top;\n",
              "    }\n",
              "\n",
              "    .dataframe thead th {\n",
              "        text-align: right;\n",
              "    }\n",
              "</style>\n",
              "<table border=\"1\" class=\"dataframe\">\n",
              "  <thead>\n",
              "    <tr style=\"text-align: right;\">\n",
              "      <th></th>\n",
              "      <th>asins</th>\n",
              "    </tr>\n",
              "  </thead>\n",
              "  <tbody>\n",
              "    <tr>\n",
              "      <th>B018Y229OU</th>\n",
              "      <td>8772</td>\n",
              "    </tr>\n",
              "    <tr>\n",
              "      <th>B00L9EPT8O,B01E6AO69U</th>\n",
              "      <td>5304</td>\n",
              "    </tr>\n",
              "    <tr>\n",
              "      <th>B00U3FPN4U</th>\n",
              "      <td>4076</td>\n",
              "    </tr>\n",
              "    <tr>\n",
              "      <th>B00OQVZDJM</th>\n",
              "      <td>2525</td>\n",
              "    </tr>\n",
              "    <tr>\n",
              "      <th>B01AHB9CN2</th>\n",
              "      <td>2241</td>\n",
              "    </tr>\n",
              "  </tbody>\n",
              "</table>\n",
              "</div>\n",
              "      <button class=\"colab-df-convert\" onclick=\"convertToInteractive('df-23fcb137-ad6a-47be-b9b2-de3458937d04')\"\n",
              "              title=\"Convert this dataframe to an interactive table.\"\n",
              "              style=\"display:none;\">\n",
              "        \n",
              "  <svg xmlns=\"http://www.w3.org/2000/svg\" height=\"24px\"viewBox=\"0 0 24 24\"\n",
              "       width=\"24px\">\n",
              "    <path d=\"M0 0h24v24H0V0z\" fill=\"none\"/>\n",
              "    <path d=\"M18.56 5.44l.94 2.06.94-2.06 2.06-.94-2.06-.94-.94-2.06-.94 2.06-2.06.94zm-11 1L8.5 8.5l.94-2.06 2.06-.94-2.06-.94L8.5 2.5l-.94 2.06-2.06.94zm10 10l.94 2.06.94-2.06 2.06-.94-2.06-.94-.94-2.06-.94 2.06-2.06.94z\"/><path d=\"M17.41 7.96l-1.37-1.37c-.4-.4-.92-.59-1.43-.59-.52 0-1.04.2-1.43.59L10.3 9.45l-7.72 7.72c-.78.78-.78 2.05 0 2.83L4 21.41c.39.39.9.59 1.41.59.51 0 1.02-.2 1.41-.59l7.78-7.78 2.81-2.81c.8-.78.8-2.07 0-2.86zM5.41 20L4 18.59l7.72-7.72 1.47 1.35L5.41 20z\"/>\n",
              "  </svg>\n",
              "      </button>\n",
              "      \n",
              "  <style>\n",
              "    .colab-df-container {\n",
              "      display:flex;\n",
              "      flex-wrap:wrap;\n",
              "      gap: 12px;\n",
              "    }\n",
              "\n",
              "    .colab-df-convert {\n",
              "      background-color: #E8F0FE;\n",
              "      border: none;\n",
              "      border-radius: 50%;\n",
              "      cursor: pointer;\n",
              "      display: none;\n",
              "      fill: #1967D2;\n",
              "      height: 32px;\n",
              "      padding: 0 0 0 0;\n",
              "      width: 32px;\n",
              "    }\n",
              "\n",
              "    .colab-df-convert:hover {\n",
              "      background-color: #E2EBFA;\n",
              "      box-shadow: 0px 1px 2px rgba(60, 64, 67, 0.3), 0px 1px 3px 1px rgba(60, 64, 67, 0.15);\n",
              "      fill: #174EA6;\n",
              "    }\n",
              "\n",
              "    [theme=dark] .colab-df-convert {\n",
              "      background-color: #3B4455;\n",
              "      fill: #D2E3FC;\n",
              "    }\n",
              "\n",
              "    [theme=dark] .colab-df-convert:hover {\n",
              "      background-color: #434B5C;\n",
              "      box-shadow: 0px 1px 3px 1px rgba(0, 0, 0, 0.15);\n",
              "      filter: drop-shadow(0px 1px 2px rgba(0, 0, 0, 0.3));\n",
              "      fill: #FFFFFF;\n",
              "    }\n",
              "  </style>\n",
              "\n",
              "      <script>\n",
              "        const buttonEl =\n",
              "          document.querySelector('#df-23fcb137-ad6a-47be-b9b2-de3458937d04 button.colab-df-convert');\n",
              "        buttonEl.style.display =\n",
              "          google.colab.kernel.accessAllowed ? 'block' : 'none';\n",
              "\n",
              "        async function convertToInteractive(key) {\n",
              "          const element = document.querySelector('#df-23fcb137-ad6a-47be-b9b2-de3458937d04');\n",
              "          const dataTable =\n",
              "            await google.colab.kernel.invokeFunction('convertToInteractive',\n",
              "                                                     [key], {});\n",
              "          if (!dataTable) return;\n",
              "\n",
              "          const docLinkHtml = 'Like what you see? Visit the ' +\n",
              "            '<a target=\"_blank\" href=https://colab.research.google.com/notebooks/data_table.ipynb>data table notebook</a>'\n",
              "            + ' to learn more about interactive tables.';\n",
              "          element.innerHTML = '';\n",
              "          dataTable['output_type'] = 'display_data';\n",
              "          await google.colab.output.renderOutput(dataTable, element);\n",
              "          const docLink = document.createElement('div');\n",
              "          docLink.innerHTML = docLinkHtml;\n",
              "          element.appendChild(docLink);\n",
              "        }\n",
              "      </script>\n",
              "    </div>\n",
              "  </div>\n",
              "  "
            ]
          },
          "metadata": {},
          "execution_count": 27
        }
      ]
    },
    {
      "cell_type": "code",
      "source": [
        "avg_rating = reviews.groupby(\"asins\")[\"reviews.rating\"].mean().to_frame()\n",
        "avg_rating.head()"
      ],
      "metadata": {
        "colab": {
          "base_uri": "https://localhost:8080/",
          "height": 237
        },
        "id": "bnjl1Gp-aom5",
        "outputId": "5070878b-f021-40e0-eb66-34667b5f8021"
      },
      "execution_count": 22,
      "outputs": [
        {
          "output_type": "execute_result",
          "data": {
            "text/plain": [
              "                       reviews.rating\n",
              "asins                                \n",
              "B005PB2T0S                   4.000000\n",
              "B005PB2T2Q                   3.400000\n",
              "B00IOY8XWQ                   4.731183\n",
              "B00IOYAM4I                   4.900000\n",
              "B00L9EPT8O,B01E6AO69U        4.663462"
            ],
            "text/html": [
              "\n",
              "  <div id=\"df-41d593e6-6230-43f2-83fb-0e2b7d44a5a2\">\n",
              "    <div class=\"colab-df-container\">\n",
              "      <div>\n",
              "<style scoped>\n",
              "    .dataframe tbody tr th:only-of-type {\n",
              "        vertical-align: middle;\n",
              "    }\n",
              "\n",
              "    .dataframe tbody tr th {\n",
              "        vertical-align: top;\n",
              "    }\n",
              "\n",
              "    .dataframe thead th {\n",
              "        text-align: right;\n",
              "    }\n",
              "</style>\n",
              "<table border=\"1\" class=\"dataframe\">\n",
              "  <thead>\n",
              "    <tr style=\"text-align: right;\">\n",
              "      <th></th>\n",
              "      <th>reviews.rating</th>\n",
              "    </tr>\n",
              "    <tr>\n",
              "      <th>asins</th>\n",
              "      <th></th>\n",
              "    </tr>\n",
              "  </thead>\n",
              "  <tbody>\n",
              "    <tr>\n",
              "      <th>B005PB2T0S</th>\n",
              "      <td>4.000000</td>\n",
              "    </tr>\n",
              "    <tr>\n",
              "      <th>B005PB2T2Q</th>\n",
              "      <td>3.400000</td>\n",
              "    </tr>\n",
              "    <tr>\n",
              "      <th>B00IOY8XWQ</th>\n",
              "      <td>4.731183</td>\n",
              "    </tr>\n",
              "    <tr>\n",
              "      <th>B00IOYAM4I</th>\n",
              "      <td>4.900000</td>\n",
              "    </tr>\n",
              "    <tr>\n",
              "      <th>B00L9EPT8O,B01E6AO69U</th>\n",
              "      <td>4.663462</td>\n",
              "    </tr>\n",
              "  </tbody>\n",
              "</table>\n",
              "</div>\n",
              "      <button class=\"colab-df-convert\" onclick=\"convertToInteractive('df-41d593e6-6230-43f2-83fb-0e2b7d44a5a2')\"\n",
              "              title=\"Convert this dataframe to an interactive table.\"\n",
              "              style=\"display:none;\">\n",
              "        \n",
              "  <svg xmlns=\"http://www.w3.org/2000/svg\" height=\"24px\"viewBox=\"0 0 24 24\"\n",
              "       width=\"24px\">\n",
              "    <path d=\"M0 0h24v24H0V0z\" fill=\"none\"/>\n",
              "    <path d=\"M18.56 5.44l.94 2.06.94-2.06 2.06-.94-2.06-.94-.94-2.06-.94 2.06-2.06.94zm-11 1L8.5 8.5l.94-2.06 2.06-.94-2.06-.94L8.5 2.5l-.94 2.06-2.06.94zm10 10l.94 2.06.94-2.06 2.06-.94-2.06-.94-.94-2.06-.94 2.06-2.06.94z\"/><path d=\"M17.41 7.96l-1.37-1.37c-.4-.4-.92-.59-1.43-.59-.52 0-1.04.2-1.43.59L10.3 9.45l-7.72 7.72c-.78.78-.78 2.05 0 2.83L4 21.41c.39.39.9.59 1.41.59.51 0 1.02-.2 1.41-.59l7.78-7.78 2.81-2.81c.8-.78.8-2.07 0-2.86zM5.41 20L4 18.59l7.72-7.72 1.47 1.35L5.41 20z\"/>\n",
              "  </svg>\n",
              "      </button>\n",
              "      \n",
              "  <style>\n",
              "    .colab-df-container {\n",
              "      display:flex;\n",
              "      flex-wrap:wrap;\n",
              "      gap: 12px;\n",
              "    }\n",
              "\n",
              "    .colab-df-convert {\n",
              "      background-color: #E8F0FE;\n",
              "      border: none;\n",
              "      border-radius: 50%;\n",
              "      cursor: pointer;\n",
              "      display: none;\n",
              "      fill: #1967D2;\n",
              "      height: 32px;\n",
              "      padding: 0 0 0 0;\n",
              "      width: 32px;\n",
              "    }\n",
              "\n",
              "    .colab-df-convert:hover {\n",
              "      background-color: #E2EBFA;\n",
              "      box-shadow: 0px 1px 2px rgba(60, 64, 67, 0.3), 0px 1px 3px 1px rgba(60, 64, 67, 0.15);\n",
              "      fill: #174EA6;\n",
              "    }\n",
              "\n",
              "    [theme=dark] .colab-df-convert {\n",
              "      background-color: #3B4455;\n",
              "      fill: #D2E3FC;\n",
              "    }\n",
              "\n",
              "    [theme=dark] .colab-df-convert:hover {\n",
              "      background-color: #434B5C;\n",
              "      box-shadow: 0px 1px 3px 1px rgba(0, 0, 0, 0.15);\n",
              "      filter: drop-shadow(0px 1px 2px rgba(0, 0, 0, 0.3));\n",
              "      fill: #FFFFFF;\n",
              "    }\n",
              "  </style>\n",
              "\n",
              "      <script>\n",
              "        const buttonEl =\n",
              "          document.querySelector('#df-41d593e6-6230-43f2-83fb-0e2b7d44a5a2 button.colab-df-convert');\n",
              "        buttonEl.style.display =\n",
              "          google.colab.kernel.accessAllowed ? 'block' : 'none';\n",
              "\n",
              "        async function convertToInteractive(key) {\n",
              "          const element = document.querySelector('#df-41d593e6-6230-43f2-83fb-0e2b7d44a5a2');\n",
              "          const dataTable =\n",
              "            await google.colab.kernel.invokeFunction('convertToInteractive',\n",
              "                                                     [key], {});\n",
              "          if (!dataTable) return;\n",
              "\n",
              "          const docLinkHtml = 'Like what you see? Visit the ' +\n",
              "            '<a target=\"_blank\" href=https://colab.research.google.com/notebooks/data_table.ipynb>data table notebook</a>'\n",
              "            + ' to learn more about interactive tables.';\n",
              "          element.innerHTML = '';\n",
              "          dataTable['output_type'] = 'display_data';\n",
              "          await google.colab.output.renderOutput(dataTable, element);\n",
              "          const docLink = document.createElement('div');\n",
              "          docLink.innerHTML = docLinkHtml;\n",
              "          element.appendChild(docLink);\n",
              "        }\n",
              "      </script>\n",
              "    </div>\n",
              "  </div>\n",
              "  "
            ]
          },
          "metadata": {},
          "execution_count": 22
        }
      ]
    },
    {
      "cell_type": "code",
      "source": [
        "table = counts.join(avg_rating)\n",
        "plt.scatter(\"asins\", \"reviews.rating\", data=table)\n",
        "table.corr()"
      ],
      "metadata": {
        "colab": {
          "base_uri": "https://localhost:8080/",
          "height": 360
        },
        "id": "Ckqsj_Eka3en",
        "outputId": "70d2f89f-9384-4bcf-af05-8ff6f0e1f651"
      },
      "execution_count": 28,
      "outputs": [
        {
          "output_type": "execute_result",
          "data": {
            "text/plain": [
              "                   asins  reviews.rating\n",
              "asins           1.000000        0.099791\n",
              "reviews.rating  0.099791        1.000000"
            ],
            "text/html": [
              "\n",
              "  <div id=\"df-860f1e67-f6c5-4645-90e1-69cd1ddb973d\">\n",
              "    <div class=\"colab-df-container\">\n",
              "      <div>\n",
              "<style scoped>\n",
              "    .dataframe tbody tr th:only-of-type {\n",
              "        vertical-align: middle;\n",
              "    }\n",
              "\n",
              "    .dataframe tbody tr th {\n",
              "        vertical-align: top;\n",
              "    }\n",
              "\n",
              "    .dataframe thead th {\n",
              "        text-align: right;\n",
              "    }\n",
              "</style>\n",
              "<table border=\"1\" class=\"dataframe\">\n",
              "  <thead>\n",
              "    <tr style=\"text-align: right;\">\n",
              "      <th></th>\n",
              "      <th>asins</th>\n",
              "      <th>reviews.rating</th>\n",
              "    </tr>\n",
              "  </thead>\n",
              "  <tbody>\n",
              "    <tr>\n",
              "      <th>asins</th>\n",
              "      <td>1.000000</td>\n",
              "      <td>0.099791</td>\n",
              "    </tr>\n",
              "    <tr>\n",
              "      <th>reviews.rating</th>\n",
              "      <td>0.099791</td>\n",
              "      <td>1.000000</td>\n",
              "    </tr>\n",
              "  </tbody>\n",
              "</table>\n",
              "</div>\n",
              "      <button class=\"colab-df-convert\" onclick=\"convertToInteractive('df-860f1e67-f6c5-4645-90e1-69cd1ddb973d')\"\n",
              "              title=\"Convert this dataframe to an interactive table.\"\n",
              "              style=\"display:none;\">\n",
              "        \n",
              "  <svg xmlns=\"http://www.w3.org/2000/svg\" height=\"24px\"viewBox=\"0 0 24 24\"\n",
              "       width=\"24px\">\n",
              "    <path d=\"M0 0h24v24H0V0z\" fill=\"none\"/>\n",
              "    <path d=\"M18.56 5.44l.94 2.06.94-2.06 2.06-.94-2.06-.94-.94-2.06-.94 2.06-2.06.94zm-11 1L8.5 8.5l.94-2.06 2.06-.94-2.06-.94L8.5 2.5l-.94 2.06-2.06.94zm10 10l.94 2.06.94-2.06 2.06-.94-2.06-.94-.94-2.06-.94 2.06-2.06.94z\"/><path d=\"M17.41 7.96l-1.37-1.37c-.4-.4-.92-.59-1.43-.59-.52 0-1.04.2-1.43.59L10.3 9.45l-7.72 7.72c-.78.78-.78 2.05 0 2.83L4 21.41c.39.39.9.59 1.41.59.51 0 1.02-.2 1.41-.59l7.78-7.78 2.81-2.81c.8-.78.8-2.07 0-2.86zM5.41 20L4 18.59l7.72-7.72 1.47 1.35L5.41 20z\"/>\n",
              "  </svg>\n",
              "      </button>\n",
              "      \n",
              "  <style>\n",
              "    .colab-df-container {\n",
              "      display:flex;\n",
              "      flex-wrap:wrap;\n",
              "      gap: 12px;\n",
              "    }\n",
              "\n",
              "    .colab-df-convert {\n",
              "      background-color: #E8F0FE;\n",
              "      border: none;\n",
              "      border-radius: 50%;\n",
              "      cursor: pointer;\n",
              "      display: none;\n",
              "      fill: #1967D2;\n",
              "      height: 32px;\n",
              "      padding: 0 0 0 0;\n",
              "      width: 32px;\n",
              "    }\n",
              "\n",
              "    .colab-df-convert:hover {\n",
              "      background-color: #E2EBFA;\n",
              "      box-shadow: 0px 1px 2px rgba(60, 64, 67, 0.3), 0px 1px 3px 1px rgba(60, 64, 67, 0.15);\n",
              "      fill: #174EA6;\n",
              "    }\n",
              "\n",
              "    [theme=dark] .colab-df-convert {\n",
              "      background-color: #3B4455;\n",
              "      fill: #D2E3FC;\n",
              "    }\n",
              "\n",
              "    [theme=dark] .colab-df-convert:hover {\n",
              "      background-color: #434B5C;\n",
              "      box-shadow: 0px 1px 3px 1px rgba(0, 0, 0, 0.15);\n",
              "      filter: drop-shadow(0px 1px 2px rgba(0, 0, 0, 0.3));\n",
              "      fill: #FFFFFF;\n",
              "    }\n",
              "  </style>\n",
              "\n",
              "      <script>\n",
              "        const buttonEl =\n",
              "          document.querySelector('#df-860f1e67-f6c5-4645-90e1-69cd1ddb973d button.colab-df-convert');\n",
              "        buttonEl.style.display =\n",
              "          google.colab.kernel.accessAllowed ? 'block' : 'none';\n",
              "\n",
              "        async function convertToInteractive(key) {\n",
              "          const element = document.querySelector('#df-860f1e67-f6c5-4645-90e1-69cd1ddb973d');\n",
              "          const dataTable =\n",
              "            await google.colab.kernel.invokeFunction('convertToInteractive',\n",
              "                                                     [key], {});\n",
              "          if (!dataTable) return;\n",
              "\n",
              "          const docLinkHtml = 'Like what you see? Visit the ' +\n",
              "            '<a target=\"_blank\" href=https://colab.research.google.com/notebooks/data_table.ipynb>data table notebook</a>'\n",
              "            + ' to learn more about interactive tables.';\n",
              "          element.innerHTML = '';\n",
              "          dataTable['output_type'] = 'display_data';\n",
              "          await google.colab.output.renderOutput(dataTable, element);\n",
              "          const docLink = document.createElement('div');\n",
              "          docLink.innerHTML = docLinkHtml;\n",
              "          element.appendChild(docLink);\n",
              "        }\n",
              "      </script>\n",
              "    </div>\n",
              "  </div>\n",
              "  "
            ]
          },
          "metadata": {},
          "execution_count": 28
        },
        {
          "output_type": "display_data",
          "data": {
            "text/plain": [
              "<Figure size 432x288 with 1 Axes>"
            ],
            "image/png": "[encoded data removed]"
          },
          "metadata": {
            "needs_background": "light"
          }
        }
      ]
    },
    {
      "cell_type": "code",
      "source": [
        "#sentiment analysis\n",
        "def sentiments(rating):\n",
        "  if(rating == 5) or (rating==4):\n",
        "    return \"Positive\"\n",
        "  elif rating  == 3:\n",
        "    return \"Neutral\"\n",
        "  elif (rating == 2) or (rating == 1):\n",
        "    return \"Negative\"\n",
        "\n",
        "strat_train[\"Sentiment\"] = strat_train[\"reviews.rating\"].apply(sentiments)\n",
        "strat_test[\"Sentiment\"] = strat_test[\"reviews.rating\"].apply(sentiments)\n",
        "strat_train[\"Sentiment\"][:20]"
      ],
      "metadata": {
        "colab": {
          "base_uri": "https://localhost:8080/"
        },
        "id": "TjeMJ6zHcNA9",
        "outputId": "37984eb1-56b0-4b22-bc82-c221d34cc58a"
      },
      "execution_count": 29,
      "outputs": [
        {
          "output_type": "execute_result",
          "data": {
            "text/plain": [
              "4349     Positive\n",
              "30776    Positive\n",
              "28775     Neutral\n",
              "1136     Positive\n",
              "17803    Positive\n",
              "7336     Positive\n",
              "32638    Positive\n",
              "13995    Positive\n",
              "6728     Negative\n",
              "22009    Positive\n",
              "11047    Positive\n",
              "22754    Positive\n",
              "5578     Positive\n",
              "11673    Positive\n",
              "19168    Positive\n",
              "14903    Positive\n",
              "30843    Positive\n",
              "5440     Positive\n",
              "28940    Positive\n",
              "31258    Positive\n",
              "Name: Sentiment, dtype: object"
            ]
          },
          "metadata": {},
          "execution_count": 29
        }
      ]
    },
    {
      "cell_type": "code",
      "source": [
        "# Prepare data\n",
        "X_train = strat_train[\"reviews.text\"]\n",
        "X_train_targetSentiment = strat_train[\"Sentiment\"]\n",
        "X_test = strat_test[\"reviews.text\"]\n",
        "X_test_targetSentiment = strat_test[\"Sentiment\"]\n",
        "print(len(X_train), len(X_test))"
      ],
      "metadata": {
        "colab": {
          "base_uri": "https://localhost:8080/"
        },
        "id": "4l20TBc8i5_9",
        "outputId": "e4efae6d-4605-422c-a54a-56f382c28286"
      },
      "execution_count": 37,
      "outputs": [
        {
          "output_type": "stream",
          "name": "stdout",
          "text": [
            "27701 6926\n"
          ]
        }
      ]
    },
    {
      "cell_type": "code",
      "source": [
        "#Feature extraction - reducing larger data into smaller components\n",
        "X_train = X_train.fillna('')\n",
        "X_test = X_test.fillna('')\n",
        "X_train_targetSentiment = X_train_targetSentiment.fillna('')\n",
        "X_test_target_targetSentiment = X_test_targetSentiment.fillna('')\n",
        "\n",
        "from sklearn.feature_extraction.text import CountVectorizer\n",
        "count_vect = CountVectorizer()\n",
        "X_train_counts = count_vect.fit_transform(X_train)\n",
        "X_train_counts.shape"
      ],
      "metadata": {
        "colab": {
          "base_uri": "https://localhost:8080/"
        },
        "id": "oK7OLRRPn6LH",
        "outputId": "f924ecb8-328b-4986-a98b-162a277e0c32"
      },
      "execution_count": 38,
      "outputs": [
        {
          "output_type": "execute_result",
          "data": {
            "text/plain": [
              "(27701, 12526)"
            ]
          },
          "metadata": {},
          "execution_count": 38
        }
      ]
    },
    {
      "cell_type": "code",
      "source": [
        "#27k training samples, and 12k distinct words in the training sample\n",
        "#tfidf transformer is used to reduce the redundancy\n",
        "#term frequencies -  term freq. times inverse document frequency\n",
        "from sklearn.feature_extraction.text import TfidfTransformer\n",
        "tfidf_transformer = TfidfTransformer(use_idf = False)\n",
        "X_train_tfidf =  tfidf_transformer.fit_transform(X_train_counts)\n",
        "X_train_tfidf.shape"
      ],
      "metadata": {
        "colab": {
          "base_uri": "https://localhost:8080/"
        },
        "id": "1-mLhx5woqe4",
        "outputId": "dbc5a0e3-9ce9-4c33-c2e9-3780bb29c293"
      },
      "execution_count": 40,
      "outputs": [
        {
          "output_type": "execute_result",
          "data": {
            "text/plain": [
              "(27701, 12526)"
            ]
          },
          "metadata": {},
          "execution_count": 40
        }
      ]
    },
    {
      "cell_type": "code",
      "source": [
        "#building a pipeline from the extracted features\n",
        "#multinomial naive bayes = classifier = where words are represented as word vector counts\n",
        "#conditions are independent to each other\n",
        "\n",
        "from sklearn.naive_bayes import MultinomialNB\n",
        "from sklearn.pipeline import Pipeline #assemble steps to be cross validated with several paramenters\n",
        "clf_multiNB_pipe = Pipeline([(\"vect\", CountVectorizer()), (\"tfidf\", TfidfTransformer()), (\"clf_nominalNB\", MultinomialNB())])\n",
        "clf_multiNB_pipe.fit(X_train, X_train_targetSentiment)"
      ],
      "metadata": {
        "colab": {
          "base_uri": "https://localhost:8080/"
        },
        "id": "JjPVv5dOpQnL",
        "outputId": "363fa376-4410-4e2d-e491-afbe916c285a"
      },
      "execution_count": 42,
      "outputs": [
        {
          "output_type": "execute_result",
          "data": {
            "text/plain": [
              "Pipeline(steps=[('vect', CountVectorizer()), ('tfidf', TfidfTransformer()),\n",
              "                ('clf_nominalNB', MultinomialNB())])"
            ]
          },
          "metadata": {},
          "execution_count": 42
        }
      ]
    },
    {
      "cell_type": "code",
      "source": [
        "predictedMultiNB = clf_multiNB_pipe.predict(X_test)\n",
        "np.mean(predictedMultiNB == X_test_targetSentiment)"
      ],
      "metadata": {
        "colab": {
          "base_uri": "https://localhost:8080/"
        },
        "id": "vfI05GxgqiAz",
        "outputId": "883fa651-4e32-41d3-ef73-f247416e5748"
      },
      "execution_count": 43,
      "outputs": [
        {
          "output_type": "execute_result",
          "data": {
            "text/plain": [
              "0.9344498989315623"
            ]
          },
          "metadata": {},
          "execution_count": 43
        }
      ]
    },
    {
      "cell_type": "code",
      "source": [
        "#testing\n",
        "#logistic regression classifier- predict the outcome of a variable\n",
        "#support vetor machine classifier\n",
        "#random forest classifier"
      ],
      "metadata": {
        "id": "XKbOjidiqzYQ"
      },
      "execution_count": null,
      "outputs": []
    },
    {
      "cell_type": "code",
      "source": [
        "#logistic regression classifier\n",
        "from sklearn.linear_model import LogisticRegression\n",
        "from sklearn.pipeline import Pipeline\n",
        "clf_logReg_pipe = Pipeline([(\"vect\", CountVectorizer()), (\"tfidf\", TfidfTransformer()), (\"clf_logRef\", LogisticRegression())])\n",
        "clf_logReg_pipe.fit(X_train, X_train_targetSentiment)\n",
        "\n",
        "import numpy as np\n",
        "predictedLogReg = clf_logReg_pipe.predict(X_test)\n",
        "np.mean(predictedLogReg == X_test_targetSentiment)\n",
        "\n"
      ],
      "metadata": {
        "colab": {
          "base_uri": "https://localhost:8080/"
        },
        "id": "DL-sFRubrGU3",
        "outputId": "b7d6b4b3-83ad-4cd3-a2e8-21c9c39b3f46"
      },
      "execution_count": 45,
      "outputs": [
        {
          "output_type": "execute_result",
          "data": {
            "text/plain": [
              "0.9392145538550389"
            ]
          },
          "metadata": {},
          "execution_count": 45
        }
      ]
    },
    {
      "cell_type": "code",
      "source": [
        "#svm\n",
        "from sklearn.svm import LinearSVC\n",
        "clf_linearSVC_pipe =  Pipeline([(\"vect\", CountVectorizer()), (\"tfidf\", TfidfTransformer()), (\"clf_linearSVC\", LinearSVC())])\n",
        "clf_linearSVC_pipe.fit(X_train, X_train_targetSentiment)\n",
        "\n",
        "predictedLinearSVC = clf_linearSVC_pipe.predict(X_test)\n",
        "np.mean(predictedLinearSVC == X_test_targetSentiment)"
      ],
      "metadata": {
        "colab": {
          "base_uri": "https://localhost:8080/"
        },
        "id": "KZYhsg8RtGF-",
        "outputId": "c06944f3-fb7b-43af-e726-3d1d2ef02c09"
      },
      "execution_count": 47,
      "outputs": [
        {
          "output_type": "execute_result",
          "data": {
            "text/plain": [
              "0.9393589373375686"
            ]
          },
          "metadata": {},
          "execution_count": 47
        }
      ]
    },
    {
      "cell_type": "code",
      "source": [
        "#random forest\n",
        "from sklearn.ensemble import RandomForestClassifier\n",
        "clf_randomForest_pipe = Pipeline([(\"vect\", CountVectorizer()), (\"tfidf\", TfidfTransformer()), (\"clf_randomForest\", RandomForestClassifier())])\n",
        "\n",
        "clf_randomForest_pipe.fit(X_train, X_train_targetSentiment)\n",
        "predictedRandomForest = clf_randomForest_pipe.predict(X_test)\n",
        "np.mean(predictedRandomForest == X_test_targetSentiment)"
      ],
      "metadata": {
        "colab": {
          "base_uri": "https://localhost:8080/"
        },
        "id": "3NtBlj49uTj1",
        "outputId": "1a108193-d2e2-4862-90dd-cdd03c050116"
      },
      "execution_count": 50,
      "outputs": [
        {
          "output_type": "execute_result",
          "data": {
            "text/plain": [
              "0.9343055154490326"
            ]
          },
          "metadata": {},
          "execution_count": 50
        }
      ]
    },
    {
      "cell_type": "code",
      "source": [
        "from sklearn.model_selection import GridSearchCV\n",
        "parameters = {'vect__ngram_range': [(1, 1), (1, 2)],    \n",
        "             'tfidf__use_idf': (True, False), \n",
        "             } \n",
        "gs_clf_LinearSVC_pipe = GridSearchCV(clf_linearSVC_pipe, parameters, n_jobs=-1)\n",
        "gs_clf_LinearSVC_pipe = gs_clf_LinearSVC_pipe.fit(X_train, X_train_targetSentiment)\n",
        "new_text = [\"The tablet is good, really liked it.\", # positive\n",
        "            \"The tablet is ok, but it works fine.\", # neutral\n",
        "            \"The tablet is not good, does not work very well.\"] # negative\n",
        "\n",
        "X_train_targetSentiment[gs_clf_LinearSVC_pipe.predict(new_text)]\n"
      ],
      "metadata": {
        "id": "tdzM0InFvPbn"
      },
      "execution_count": null,
      "outputs": []
    }
  ]
}